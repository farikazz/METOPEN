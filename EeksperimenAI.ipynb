{
  "cells": [
    {
      "cell_type": "markdown",
      "metadata": {
        "id": "view-in-github",
        "colab_type": "text"
      },
      "source": [
        "<a href=\"https://colab.research.google.com/github/farikazz/METOPEN/blob/main/EeksperimenAI.ipynb\" target=\"_parent\"><img src=\"https://colab.research.google.com/assets/colab-badge.svg\" alt=\"Open In Colab\"/></a>"
      ]
    },
    {
      "cell_type": "markdown",
      "metadata": {
        "id": "aw9lFmYct8Yg"
      },
      "source": [
        "Instalasi dan Import Pustaka yang Dibutuhkan\n"
      ]
    },
    {
      "cell_type": "code",
      "execution_count": null,
      "metadata": {
        "id": "0mm-B0K-HNZn",
        "colab": {
          "base_uri": "https://localhost:8080/"
        },
        "outputId": "f360020c-35cf-4b39-e284-886b225f10c5"
      },
      "outputs": [
        {
          "output_type": "stream",
          "name": "stdout",
          "text": [
            "Requirement already satisfied: Sastrawi in /usr/local/lib/python3.11/dist-packages (1.0.1)\n"
          ]
        },
        {
          "output_type": "stream",
          "name": "stderr",
          "text": [
            "[nltk_data] Downloading package punkt to /root/nltk_data...\n",
            "[nltk_data]   Package punkt is already up-to-date!\n",
            "[nltk_data] Downloading package punkt_tab to /root/nltk_data...\n",
            "[nltk_data]   Package punkt_tab is already up-to-date!\n",
            "[nltk_data] Downloading package stopwords to /root/nltk_data...\n",
            "[nltk_data]   Package stopwords is already up-to-date!\n"
          ]
        }
      ],
      "source": [
        "# Instalasi pustaka yang dibutuhkan\n",
        "!pip install Sastrawi\n",
        "\n",
        "# Pustaka untuk manipulasi data dan visualisasi\n",
        "import pandas as pd\n",
        "import numpy as np\n",
        "import matplotlib.pyplot as plt\n",
        "import seaborn as sns\n",
        "from wordcloud import WordCloud\n",
        "\n",
        "# Pemrosesan teks\n",
        "import re\n",
        "import string\n",
        "import json\n",
        "import requests\n",
        "import pickle\n",
        "from nltk.tokenize import word_tokenize\n",
        "from nltk.corpus import stopwords\n",
        "from nltk import download as nltk_unduh\n",
        "from Sastrawi.StopWordRemover.StopWordRemoverFactory import StopWordRemoverFactory\n",
        "\n",
        "# Mengunduh dependensi NLTK\n",
        "nltk_unduh('punkt')\n",
        "nltk_unduh('punkt_tab')\n",
        "nltk_unduh('stopwords')\n",
        "\n",
        "# Pustaka untuk pembelajaran mesin\n",
        "from sklearn.svm import SVC\n",
        "from sklearn.ensemble import RandomForestClassifier\n",
        "from sklearn.feature_extraction.text import TfidfVectorizer\n",
        "from sklearn.model_selection import train_test_split\n",
        "from sklearn.metrics import accuracy_score, precision_score, classification_report, confusion_matrix\n",
        "\n",
        "# Pustaka untuk pembelajaran mendalam\n",
        "import tensorflow as tf\n",
        "from tensorflow.keras.preprocessing.text import Tokenizer\n",
        "from tensorflow.keras.preprocessing.sequence import pad_sequences\n",
        "from tensorflow.keras.models import Sequential\n",
        "from tensorflow.keras.layers import Embedding, LSTM, Dense, Dropout, Flatten, GRU, SpatialDropout1D\n",
        "from tensorflow.keras.utils import to_categorical\n",
        "from tensorflow.keras.callbacks import EarlyStopping, Callback, ReduceLROnPlateau\n",
        "from tensorflow.keras.regularizers import l2\n",
        "from tensorflow.keras.optimizers import Adam\n",
        "\n",
        "# Menonaktifkan peringatan sistem\n",
        "import warnings\n",
        "warnings.filterwarnings(\"ignore\")\n"
      ]
    },
    {
      "cell_type": "markdown",
      "metadata": {
        "id": "qCxyfy2UuFrz"
      },
      "source": [
        "Memuat Dataset Ulasan Aplikasi Gojek"
      ]
    },
    {
      "cell_type": "code",
      "execution_count": null,
      "metadata": {
        "id": "_Bd-oiqpMtPt",
        "colab": {
          "base_uri": "https://localhost:8080/",
          "height": 310
        },
        "outputId": "520f0d9b-2440-429b-da00-33057b7ec100"
      },
      "outputs": [
        {
          "output_type": "stream",
          "name": "stdout",
          "text": [
            "Data ulasan:\n"
          ]
        },
        {
          "output_type": "execute_result",
          "data": {
            "text/plain": [
              "                  userName                                            content  \\\n",
              "0                Yuga Edit                            akun gopay saya di blok   \n",
              "1                 ff burik  Lambat sekali sekarang ini bosssku apk gojek g...   \n",
              "2  Anisa Suci Rahmayuliani  Kenapa sih dari kemarin sy buka aplikasi gojek...   \n",
              "3             naoki yakuza  Baru download gojek dan hape baru trus ditop u...   \n",
              "4            Trio Sugianto                                             Mantap   \n",
              "\n",
              "   score                   at appVersion  \n",
              "0      1  2022-01-21 10:52:12      4.9.3  \n",
              "1      3  2021-11-30 15:40:38      4.9.3  \n",
              "2      4  2021-11-29 22:58:12      4.9.3  \n",
              "3      1  2022-09-03 15:21:17      4.9.3  \n",
              "4      5  2022-01-15 10:05:27      4.9.3  "
            ],
            "text/html": [
              "\n",
              "  <div id=\"df-c6596ecc-c588-47b1-9973-a72ed9a091fa\" class=\"colab-df-container\">\n",
              "    <div>\n",
              "<style scoped>\n",
              "    .dataframe tbody tr th:only-of-type {\n",
              "        vertical-align: middle;\n",
              "    }\n",
              "\n",
              "    .dataframe tbody tr th {\n",
              "        vertical-align: top;\n",
              "    }\n",
              "\n",
              "    .dataframe thead th {\n",
              "        text-align: right;\n",
              "    }\n",
              "</style>\n",
              "<table border=\"1\" class=\"dataframe\">\n",
              "  <thead>\n",
              "    <tr style=\"text-align: right;\">\n",
              "      <th></th>\n",
              "      <th>userName</th>\n",
              "      <th>content</th>\n",
              "      <th>score</th>\n",
              "      <th>at</th>\n",
              "      <th>appVersion</th>\n",
              "    </tr>\n",
              "  </thead>\n",
              "  <tbody>\n",
              "    <tr>\n",
              "      <th>0</th>\n",
              "      <td>Yuga Edit</td>\n",
              "      <td>akun gopay saya di blok</td>\n",
              "      <td>1</td>\n",
              "      <td>2022-01-21 10:52:12</td>\n",
              "      <td>4.9.3</td>\n",
              "    </tr>\n",
              "    <tr>\n",
              "      <th>1</th>\n",
              "      <td>ff burik</td>\n",
              "      <td>Lambat sekali sekarang ini bosssku apk gojek g...</td>\n",
              "      <td>3</td>\n",
              "      <td>2021-11-30 15:40:38</td>\n",
              "      <td>4.9.3</td>\n",
              "    </tr>\n",
              "    <tr>\n",
              "      <th>2</th>\n",
              "      <td>Anisa Suci Rahmayuliani</td>\n",
              "      <td>Kenapa sih dari kemarin sy buka aplikasi gojek...</td>\n",
              "      <td>4</td>\n",
              "      <td>2021-11-29 22:58:12</td>\n",
              "      <td>4.9.3</td>\n",
              "    </tr>\n",
              "    <tr>\n",
              "      <th>3</th>\n",
              "      <td>naoki yakuza</td>\n",
              "      <td>Baru download gojek dan hape baru trus ditop u...</td>\n",
              "      <td>1</td>\n",
              "      <td>2022-09-03 15:21:17</td>\n",
              "      <td>4.9.3</td>\n",
              "    </tr>\n",
              "    <tr>\n",
              "      <th>4</th>\n",
              "      <td>Trio Sugianto</td>\n",
              "      <td>Mantap</td>\n",
              "      <td>5</td>\n",
              "      <td>2022-01-15 10:05:27</td>\n",
              "      <td>4.9.3</td>\n",
              "    </tr>\n",
              "  </tbody>\n",
              "</table>\n",
              "</div>\n",
              "    <div class=\"colab-df-buttons\">\n",
              "\n",
              "  <div class=\"colab-df-container\">\n",
              "    <button class=\"colab-df-convert\" onclick=\"convertToInteractive('df-c6596ecc-c588-47b1-9973-a72ed9a091fa')\"\n",
              "            title=\"Convert this dataframe to an interactive table.\"\n",
              "            style=\"display:none;\">\n",
              "\n",
              "  <svg xmlns=\"http://www.w3.org/2000/svg\" height=\"24px\" viewBox=\"0 -960 960 960\">\n",
              "    <path d=\"M120-120v-720h720v720H120Zm60-500h600v-160H180v160Zm220 220h160v-160H400v160Zm0 220h160v-160H400v160ZM180-400h160v-160H180v160Zm440 0h160v-160H620v160ZM180-180h160v-160H180v160Zm440 0h160v-160H620v160Z\"/>\n",
              "  </svg>\n",
              "    </button>\n",
              "\n",
              "  <style>\n",
              "    .colab-df-container {\n",
              "      display:flex;\n",
              "      gap: 12px;\n",
              "    }\n",
              "\n",
              "    .colab-df-convert {\n",
              "      background-color: #E8F0FE;\n",
              "      border: none;\n",
              "      border-radius: 50%;\n",
              "      cursor: pointer;\n",
              "      display: none;\n",
              "      fill: #1967D2;\n",
              "      height: 32px;\n",
              "      padding: 0 0 0 0;\n",
              "      width: 32px;\n",
              "    }\n",
              "\n",
              "    .colab-df-convert:hover {\n",
              "      background-color: #E2EBFA;\n",
              "      box-shadow: 0px 1px 2px rgba(60, 64, 67, 0.3), 0px 1px 3px 1px rgba(60, 64, 67, 0.15);\n",
              "      fill: #174EA6;\n",
              "    }\n",
              "\n",
              "    .colab-df-buttons div {\n",
              "      margin-bottom: 4px;\n",
              "    }\n",
              "\n",
              "    [theme=dark] .colab-df-convert {\n",
              "      background-color: #3B4455;\n",
              "      fill: #D2E3FC;\n",
              "    }\n",
              "\n",
              "    [theme=dark] .colab-df-convert:hover {\n",
              "      background-color: #434B5C;\n",
              "      box-shadow: 0px 1px 3px 1px rgba(0, 0, 0, 0.15);\n",
              "      filter: drop-shadow(0px 1px 2px rgba(0, 0, 0, 0.3));\n",
              "      fill: #FFFFFF;\n",
              "    }\n",
              "  </style>\n",
              "\n",
              "    <script>\n",
              "      const buttonEl =\n",
              "        document.querySelector('#df-c6596ecc-c588-47b1-9973-a72ed9a091fa button.colab-df-convert');\n",
              "      buttonEl.style.display =\n",
              "        google.colab.kernel.accessAllowed ? 'block' : 'none';\n",
              "\n",
              "      async function convertToInteractive(key) {\n",
              "        const element = document.querySelector('#df-c6596ecc-c588-47b1-9973-a72ed9a091fa');\n",
              "        const dataTable =\n",
              "          await google.colab.kernel.invokeFunction('convertToInteractive',\n",
              "                                                    [key], {});\n",
              "        if (!dataTable) return;\n",
              "\n",
              "        const docLinkHtml = 'Like what you see? Visit the ' +\n",
              "          '<a target=\"_blank\" href=https://colab.research.google.com/notebooks/data_table.ipynb>data table notebook</a>'\n",
              "          + ' to learn more about interactive tables.';\n",
              "        element.innerHTML = '';\n",
              "        dataTable['output_type'] = 'display_data';\n",
              "        await google.colab.output.renderOutput(dataTable, element);\n",
              "        const docLink = document.createElement('div');\n",
              "        docLink.innerHTML = docLinkHtml;\n",
              "        element.appendChild(docLink);\n",
              "      }\n",
              "    </script>\n",
              "  </div>\n",
              "\n",
              "\n",
              "    <div id=\"df-4fe6c01c-1ca6-40dc-93b2-471b4e6692eb\">\n",
              "      <button class=\"colab-df-quickchart\" onclick=\"quickchart('df-4fe6c01c-1ca6-40dc-93b2-471b4e6692eb')\"\n",
              "                title=\"Suggest charts\"\n",
              "                style=\"display:none;\">\n",
              "\n",
              "<svg xmlns=\"http://www.w3.org/2000/svg\" height=\"24px\"viewBox=\"0 0 24 24\"\n",
              "     width=\"24px\">\n",
              "    <g>\n",
              "        <path d=\"M19 3H5c-1.1 0-2 .9-2 2v14c0 1.1.9 2 2 2h14c1.1 0 2-.9 2-2V5c0-1.1-.9-2-2-2zM9 17H7v-7h2v7zm4 0h-2V7h2v10zm4 0h-2v-4h2v4z\"/>\n",
              "    </g>\n",
              "</svg>\n",
              "      </button>\n",
              "\n",
              "<style>\n",
              "  .colab-df-quickchart {\n",
              "      --bg-color: #E8F0FE;\n",
              "      --fill-color: #1967D2;\n",
              "      --hover-bg-color: #E2EBFA;\n",
              "      --hover-fill-color: #174EA6;\n",
              "      --disabled-fill-color: #AAA;\n",
              "      --disabled-bg-color: #DDD;\n",
              "  }\n",
              "\n",
              "  [theme=dark] .colab-df-quickchart {\n",
              "      --bg-color: #3B4455;\n",
              "      --fill-color: #D2E3FC;\n",
              "      --hover-bg-color: #434B5C;\n",
              "      --hover-fill-color: #FFFFFF;\n",
              "      --disabled-bg-color: #3B4455;\n",
              "      --disabled-fill-color: #666;\n",
              "  }\n",
              "\n",
              "  .colab-df-quickchart {\n",
              "    background-color: var(--bg-color);\n",
              "    border: none;\n",
              "    border-radius: 50%;\n",
              "    cursor: pointer;\n",
              "    display: none;\n",
              "    fill: var(--fill-color);\n",
              "    height: 32px;\n",
              "    padding: 0;\n",
              "    width: 32px;\n",
              "  }\n",
              "\n",
              "  .colab-df-quickchart:hover {\n",
              "    background-color: var(--hover-bg-color);\n",
              "    box-shadow: 0 1px 2px rgba(60, 64, 67, 0.3), 0 1px 3px 1px rgba(60, 64, 67, 0.15);\n",
              "    fill: var(--button-hover-fill-color);\n",
              "  }\n",
              "\n",
              "  .colab-df-quickchart-complete:disabled,\n",
              "  .colab-df-quickchart-complete:disabled:hover {\n",
              "    background-color: var(--disabled-bg-color);\n",
              "    fill: var(--disabled-fill-color);\n",
              "    box-shadow: none;\n",
              "  }\n",
              "\n",
              "  .colab-df-spinner {\n",
              "    border: 2px solid var(--fill-color);\n",
              "    border-color: transparent;\n",
              "    border-bottom-color: var(--fill-color);\n",
              "    animation:\n",
              "      spin 1s steps(1) infinite;\n",
              "  }\n",
              "\n",
              "  @keyframes spin {\n",
              "    0% {\n",
              "      border-color: transparent;\n",
              "      border-bottom-color: var(--fill-color);\n",
              "      border-left-color: var(--fill-color);\n",
              "    }\n",
              "    20% {\n",
              "      border-color: transparent;\n",
              "      border-left-color: var(--fill-color);\n",
              "      border-top-color: var(--fill-color);\n",
              "    }\n",
              "    30% {\n",
              "      border-color: transparent;\n",
              "      border-left-color: var(--fill-color);\n",
              "      border-top-color: var(--fill-color);\n",
              "      border-right-color: var(--fill-color);\n",
              "    }\n",
              "    40% {\n",
              "      border-color: transparent;\n",
              "      border-right-color: var(--fill-color);\n",
              "      border-top-color: var(--fill-color);\n",
              "    }\n",
              "    60% {\n",
              "      border-color: transparent;\n",
              "      border-right-color: var(--fill-color);\n",
              "    }\n",
              "    80% {\n",
              "      border-color: transparent;\n",
              "      border-right-color: var(--fill-color);\n",
              "      border-bottom-color: var(--fill-color);\n",
              "    }\n",
              "    90% {\n",
              "      border-color: transparent;\n",
              "      border-bottom-color: var(--fill-color);\n",
              "    }\n",
              "  }\n",
              "</style>\n",
              "\n",
              "      <script>\n",
              "        async function quickchart(key) {\n",
              "          const quickchartButtonEl =\n",
              "            document.querySelector('#' + key + ' button');\n",
              "          quickchartButtonEl.disabled = true;  // To prevent multiple clicks.\n",
              "          quickchartButtonEl.classList.add('colab-df-spinner');\n",
              "          try {\n",
              "            const charts = await google.colab.kernel.invokeFunction(\n",
              "                'suggestCharts', [key], {});\n",
              "          } catch (error) {\n",
              "            console.error('Error during call to suggestCharts:', error);\n",
              "          }\n",
              "          quickchartButtonEl.classList.remove('colab-df-spinner');\n",
              "          quickchartButtonEl.classList.add('colab-df-quickchart-complete');\n",
              "        }\n",
              "        (() => {\n",
              "          let quickchartButtonEl =\n",
              "            document.querySelector('#df-4fe6c01c-1ca6-40dc-93b2-471b4e6692eb button');\n",
              "          quickchartButtonEl.style.display =\n",
              "            google.colab.kernel.accessAllowed ? 'block' : 'none';\n",
              "        })();\n",
              "      </script>\n",
              "    </div>\n",
              "\n",
              "    </div>\n",
              "  </div>\n"
            ],
            "application/vnd.google.colaboratory.intrinsic+json": {
              "type": "dataframe",
              "variable_name": "df"
            }
          },
          "metadata": {},
          "execution_count": 7
        }
      ],
      "source": [
        "# Memuat dataset ulasan dari file CSV lokal\n",
        "file_path = \"Gojek.csv\"\n",
        "df = pd.read_csv(file_path)\n",
        "\n",
        "# Menampilkan beberapa baris awal dari dataset\n",
        "print(\"Data ulasan:\")\n",
        "df.head()"
      ]
    },
    {
      "cell_type": "markdown",
      "source": [
        "pelabelan data"
      ],
      "metadata": {
        "id": "d_TrtqpTSBOU"
      }
    },
    {
      "cell_type": "code",
      "source": [
        "df = df[['content', 'score']].dropna()\n",
        "df.head()"
      ],
      "metadata": {
        "colab": {
          "base_uri": "https://localhost:8080/",
          "height": 206
        },
        "id": "j9QXUuMj0z6D",
        "outputId": "68741a28-a2b8-48df-cde3-a6a1f35f09d1"
      },
      "execution_count": null,
      "outputs": [
        {
          "output_type": "execute_result",
          "data": {
            "text/plain": [
              "                                             content  score\n",
              "0                            akun gopay saya di blok      1\n",
              "1  Lambat sekali sekarang ini bosssku apk gojek g...      3\n",
              "2  Kenapa sih dari kemarin sy buka aplikasi gojek...      4\n",
              "3  Baru download gojek dan hape baru trus ditop u...      1\n",
              "4                                             Mantap      5"
            ],
            "text/html": [
              "\n",
              "  <div id=\"df-04973aa2-13e9-48a7-bd6b-0f698fc42f60\" class=\"colab-df-container\">\n",
              "    <div>\n",
              "<style scoped>\n",
              "    .dataframe tbody tr th:only-of-type {\n",
              "        vertical-align: middle;\n",
              "    }\n",
              "\n",
              "    .dataframe tbody tr th {\n",
              "        vertical-align: top;\n",
              "    }\n",
              "\n",
              "    .dataframe thead th {\n",
              "        text-align: right;\n",
              "    }\n",
              "</style>\n",
              "<table border=\"1\" class=\"dataframe\">\n",
              "  <thead>\n",
              "    <tr style=\"text-align: right;\">\n",
              "      <th></th>\n",
              "      <th>content</th>\n",
              "      <th>score</th>\n",
              "    </tr>\n",
              "  </thead>\n",
              "  <tbody>\n",
              "    <tr>\n",
              "      <th>0</th>\n",
              "      <td>akun gopay saya di blok</td>\n",
              "      <td>1</td>\n",
              "    </tr>\n",
              "    <tr>\n",
              "      <th>1</th>\n",
              "      <td>Lambat sekali sekarang ini bosssku apk gojek g...</td>\n",
              "      <td>3</td>\n",
              "    </tr>\n",
              "    <tr>\n",
              "      <th>2</th>\n",
              "      <td>Kenapa sih dari kemarin sy buka aplikasi gojek...</td>\n",
              "      <td>4</td>\n",
              "    </tr>\n",
              "    <tr>\n",
              "      <th>3</th>\n",
              "      <td>Baru download gojek dan hape baru trus ditop u...</td>\n",
              "      <td>1</td>\n",
              "    </tr>\n",
              "    <tr>\n",
              "      <th>4</th>\n",
              "      <td>Mantap</td>\n",
              "      <td>5</td>\n",
              "    </tr>\n",
              "  </tbody>\n",
              "</table>\n",
              "</div>\n",
              "    <div class=\"colab-df-buttons\">\n",
              "\n",
              "  <div class=\"colab-df-container\">\n",
              "    <button class=\"colab-df-convert\" onclick=\"convertToInteractive('df-04973aa2-13e9-48a7-bd6b-0f698fc42f60')\"\n",
              "            title=\"Convert this dataframe to an interactive table.\"\n",
              "            style=\"display:none;\">\n",
              "\n",
              "  <svg xmlns=\"http://www.w3.org/2000/svg\" height=\"24px\" viewBox=\"0 -960 960 960\">\n",
              "    <path d=\"M120-120v-720h720v720H120Zm60-500h600v-160H180v160Zm220 220h160v-160H400v160Zm0 220h160v-160H400v160ZM180-400h160v-160H180v160Zm440 0h160v-160H620v160ZM180-180h160v-160H180v160Zm440 0h160v-160H620v160Z\"/>\n",
              "  </svg>\n",
              "    </button>\n",
              "\n",
              "  <style>\n",
              "    .colab-df-container {\n",
              "      display:flex;\n",
              "      gap: 12px;\n",
              "    }\n",
              "\n",
              "    .colab-df-convert {\n",
              "      background-color: #E8F0FE;\n",
              "      border: none;\n",
              "      border-radius: 50%;\n",
              "      cursor: pointer;\n",
              "      display: none;\n",
              "      fill: #1967D2;\n",
              "      height: 32px;\n",
              "      padding: 0 0 0 0;\n",
              "      width: 32px;\n",
              "    }\n",
              "\n",
              "    .colab-df-convert:hover {\n",
              "      background-color: #E2EBFA;\n",
              "      box-shadow: 0px 1px 2px rgba(60, 64, 67, 0.3), 0px 1px 3px 1px rgba(60, 64, 67, 0.15);\n",
              "      fill: #174EA6;\n",
              "    }\n",
              "\n",
              "    .colab-df-buttons div {\n",
              "      margin-bottom: 4px;\n",
              "    }\n",
              "\n",
              "    [theme=dark] .colab-df-convert {\n",
              "      background-color: #3B4455;\n",
              "      fill: #D2E3FC;\n",
              "    }\n",
              "\n",
              "    [theme=dark] .colab-df-convert:hover {\n",
              "      background-color: #434B5C;\n",
              "      box-shadow: 0px 1px 3px 1px rgba(0, 0, 0, 0.15);\n",
              "      filter: drop-shadow(0px 1px 2px rgba(0, 0, 0, 0.3));\n",
              "      fill: #FFFFFF;\n",
              "    }\n",
              "  </style>\n",
              "\n",
              "    <script>\n",
              "      const buttonEl =\n",
              "        document.querySelector('#df-04973aa2-13e9-48a7-bd6b-0f698fc42f60 button.colab-df-convert');\n",
              "      buttonEl.style.display =\n",
              "        google.colab.kernel.accessAllowed ? 'block' : 'none';\n",
              "\n",
              "      async function convertToInteractive(key) {\n",
              "        const element = document.querySelector('#df-04973aa2-13e9-48a7-bd6b-0f698fc42f60');\n",
              "        const dataTable =\n",
              "          await google.colab.kernel.invokeFunction('convertToInteractive',\n",
              "                                                    [key], {});\n",
              "        if (!dataTable) return;\n",
              "\n",
              "        const docLinkHtml = 'Like what you see? Visit the ' +\n",
              "          '<a target=\"_blank\" href=https://colab.research.google.com/notebooks/data_table.ipynb>data table notebook</a>'\n",
              "          + ' to learn more about interactive tables.';\n",
              "        element.innerHTML = '';\n",
              "        dataTable['output_type'] = 'display_data';\n",
              "        await google.colab.output.renderOutput(dataTable, element);\n",
              "        const docLink = document.createElement('div');\n",
              "        docLink.innerHTML = docLinkHtml;\n",
              "        element.appendChild(docLink);\n",
              "      }\n",
              "    </script>\n",
              "  </div>\n",
              "\n",
              "\n",
              "    <div id=\"df-0ec17835-3928-4f2b-a24a-fcee4abde4f9\">\n",
              "      <button class=\"colab-df-quickchart\" onclick=\"quickchart('df-0ec17835-3928-4f2b-a24a-fcee4abde4f9')\"\n",
              "                title=\"Suggest charts\"\n",
              "                style=\"display:none;\">\n",
              "\n",
              "<svg xmlns=\"http://www.w3.org/2000/svg\" height=\"24px\"viewBox=\"0 0 24 24\"\n",
              "     width=\"24px\">\n",
              "    <g>\n",
              "        <path d=\"M19 3H5c-1.1 0-2 .9-2 2v14c0 1.1.9 2 2 2h14c1.1 0 2-.9 2-2V5c0-1.1-.9-2-2-2zM9 17H7v-7h2v7zm4 0h-2V7h2v10zm4 0h-2v-4h2v4z\"/>\n",
              "    </g>\n",
              "</svg>\n",
              "      </button>\n",
              "\n",
              "<style>\n",
              "  .colab-df-quickchart {\n",
              "      --bg-color: #E8F0FE;\n",
              "      --fill-color: #1967D2;\n",
              "      --hover-bg-color: #E2EBFA;\n",
              "      --hover-fill-color: #174EA6;\n",
              "      --disabled-fill-color: #AAA;\n",
              "      --disabled-bg-color: #DDD;\n",
              "  }\n",
              "\n",
              "  [theme=dark] .colab-df-quickchart {\n",
              "      --bg-color: #3B4455;\n",
              "      --fill-color: #D2E3FC;\n",
              "      --hover-bg-color: #434B5C;\n",
              "      --hover-fill-color: #FFFFFF;\n",
              "      --disabled-bg-color: #3B4455;\n",
              "      --disabled-fill-color: #666;\n",
              "  }\n",
              "\n",
              "  .colab-df-quickchart {\n",
              "    background-color: var(--bg-color);\n",
              "    border: none;\n",
              "    border-radius: 50%;\n",
              "    cursor: pointer;\n",
              "    display: none;\n",
              "    fill: var(--fill-color);\n",
              "    height: 32px;\n",
              "    padding: 0;\n",
              "    width: 32px;\n",
              "  }\n",
              "\n",
              "  .colab-df-quickchart:hover {\n",
              "    background-color: var(--hover-bg-color);\n",
              "    box-shadow: 0 1px 2px rgba(60, 64, 67, 0.3), 0 1px 3px 1px rgba(60, 64, 67, 0.15);\n",
              "    fill: var(--button-hover-fill-color);\n",
              "  }\n",
              "\n",
              "  .colab-df-quickchart-complete:disabled,\n",
              "  .colab-df-quickchart-complete:disabled:hover {\n",
              "    background-color: var(--disabled-bg-color);\n",
              "    fill: var(--disabled-fill-color);\n",
              "    box-shadow: none;\n",
              "  }\n",
              "\n",
              "  .colab-df-spinner {\n",
              "    border: 2px solid var(--fill-color);\n",
              "    border-color: transparent;\n",
              "    border-bottom-color: var(--fill-color);\n",
              "    animation:\n",
              "      spin 1s steps(1) infinite;\n",
              "  }\n",
              "\n",
              "  @keyframes spin {\n",
              "    0% {\n",
              "      border-color: transparent;\n",
              "      border-bottom-color: var(--fill-color);\n",
              "      border-left-color: var(--fill-color);\n",
              "    }\n",
              "    20% {\n",
              "      border-color: transparent;\n",
              "      border-left-color: var(--fill-color);\n",
              "      border-top-color: var(--fill-color);\n",
              "    }\n",
              "    30% {\n",
              "      border-color: transparent;\n",
              "      border-left-color: var(--fill-color);\n",
              "      border-top-color: var(--fill-color);\n",
              "      border-right-color: var(--fill-color);\n",
              "    }\n",
              "    40% {\n",
              "      border-color: transparent;\n",
              "      border-right-color: var(--fill-color);\n",
              "      border-top-color: var(--fill-color);\n",
              "    }\n",
              "    60% {\n",
              "      border-color: transparent;\n",
              "      border-right-color: var(--fill-color);\n",
              "    }\n",
              "    80% {\n",
              "      border-color: transparent;\n",
              "      border-right-color: var(--fill-color);\n",
              "      border-bottom-color: var(--fill-color);\n",
              "    }\n",
              "    90% {\n",
              "      border-color: transparent;\n",
              "      border-bottom-color: var(--fill-color);\n",
              "    }\n",
              "  }\n",
              "</style>\n",
              "\n",
              "      <script>\n",
              "        async function quickchart(key) {\n",
              "          const quickchartButtonEl =\n",
              "            document.querySelector('#' + key + ' button');\n",
              "          quickchartButtonEl.disabled = true;  // To prevent multiple clicks.\n",
              "          quickchartButtonEl.classList.add('colab-df-spinner');\n",
              "          try {\n",
              "            const charts = await google.colab.kernel.invokeFunction(\n",
              "                'suggestCharts', [key], {});\n",
              "          } catch (error) {\n",
              "            console.error('Error during call to suggestCharts:', error);\n",
              "          }\n",
              "          quickchartButtonEl.classList.remove('colab-df-spinner');\n",
              "          quickchartButtonEl.classList.add('colab-df-quickchart-complete');\n",
              "        }\n",
              "        (() => {\n",
              "          let quickchartButtonEl =\n",
              "            document.querySelector('#df-0ec17835-3928-4f2b-a24a-fcee4abde4f9 button');\n",
              "          quickchartButtonEl.style.display =\n",
              "            google.colab.kernel.accessAllowed ? 'block' : 'none';\n",
              "        })();\n",
              "      </script>\n",
              "    </div>\n",
              "\n",
              "    </div>\n",
              "  </div>\n"
            ],
            "application/vnd.google.colaboratory.intrinsic+json": {
              "type": "dataframe",
              "variable_name": "df"
            }
          },
          "metadata": {},
          "execution_count": 8
        }
      ]
    },
    {
      "cell_type": "code",
      "source": [
        "def label_sentiment(score):\n",
        "    if score <= 2:\n",
        "        return 'negatif'\n",
        "    elif score == 3:\n",
        "        return 'netral'\n",
        "    else:\n",
        "        return 'positif'\n",
        "\n",
        "df['label'] = df['score'].apply(label_sentiment)\n",
        "df['label'].value_counts()"
      ],
      "metadata": {
        "colab": {
          "base_uri": "https://localhost:8080/",
          "height": 209
        },
        "id": "0PRRi3pq044u",
        "outputId": "9b7507a1-8ba3-4acd-ae72-155aae320ed6"
      },
      "execution_count": null,
      "outputs": [
        {
          "output_type": "execute_result",
          "data": {
            "text/plain": [
              "label\n",
              "positif    161369\n",
              "negatif     54171\n",
              "netral       9460\n",
              "Name: count, dtype: int64"
            ],
            "text/html": [
              "<div>\n",
              "<style scoped>\n",
              "    .dataframe tbody tr th:only-of-type {\n",
              "        vertical-align: middle;\n",
              "    }\n",
              "\n",
              "    .dataframe tbody tr th {\n",
              "        vertical-align: top;\n",
              "    }\n",
              "\n",
              "    .dataframe thead th {\n",
              "        text-align: right;\n",
              "    }\n",
              "</style>\n",
              "<table border=\"1\" class=\"dataframe\">\n",
              "  <thead>\n",
              "    <tr style=\"text-align: right;\">\n",
              "      <th></th>\n",
              "      <th>count</th>\n",
              "    </tr>\n",
              "    <tr>\n",
              "      <th>label</th>\n",
              "      <th></th>\n",
              "    </tr>\n",
              "  </thead>\n",
              "  <tbody>\n",
              "    <tr>\n",
              "      <th>positif</th>\n",
              "      <td>161369</td>\n",
              "    </tr>\n",
              "    <tr>\n",
              "      <th>negatif</th>\n",
              "      <td>54171</td>\n",
              "    </tr>\n",
              "    <tr>\n",
              "      <th>netral</th>\n",
              "      <td>9460</td>\n",
              "    </tr>\n",
              "  </tbody>\n",
              "</table>\n",
              "</div><br><label><b>dtype:</b> int64</label>"
            ]
          },
          "metadata": {},
          "execution_count": 9
        }
      ]
    },
    {
      "cell_type": "markdown",
      "source": [
        "Exploratory Data Analysis (EDA) Menampilkan Informasi Umum dan Pengecekan Data Kosong"
      ],
      "metadata": {
        "id": "sBkzLjRo1tgY"
      }
    },
    {
      "cell_type": "code",
      "source": [
        "# Menampilkan informasi dasar dari dataset awal (df)\n",
        "df.info()\n",
        "\n",
        "# Mengecek apakah ada nilai kosong di setiap kolom\n",
        "print(\"Nilai yang hilang:\")\n",
        "print(df.isnull().sum())\n"
      ],
      "metadata": {
        "colab": {
          "base_uri": "https://localhost:8080/"
        },
        "id": "tA380m1_1jAu",
        "outputId": "336b798e-c6a3-42f6-85cf-37d6f71cbed7"
      },
      "execution_count": null,
      "outputs": [
        {
          "output_type": "stream",
          "name": "stdout",
          "text": [
            "<class 'pandas.core.frame.DataFrame'>\n",
            "Index: 225000 entries, 0 to 225001\n",
            "Data columns (total 3 columns):\n",
            " #   Column   Non-Null Count   Dtype \n",
            "---  ------   --------------   ----- \n",
            " 0   content  225000 non-null  object\n",
            " 1   score    225000 non-null  int64 \n",
            " 2   label    225000 non-null  object\n",
            "dtypes: int64(1), object(2)\n",
            "memory usage: 6.9+ MB\n",
            "Nilai yang hilang:\n",
            "content    0\n",
            "score      0\n",
            "label      0\n",
            "dtype: int64\n"
          ]
        }
      ]
    },
    {
      "cell_type": "markdown",
      "source": [
        "Under-Sampling Data"
      ],
      "metadata": {
        "id": "ifkt0VfVcrWE"
      }
    },
    {
      "cell_type": "code",
      "source": [
        "from imblearn.under_sampling import RandomUnderSampler\n",
        "from imblearn.over_sampling import RandomOverSampler\n",
        "from collections import Counter\n",
        "\n",
        "# Menentukan fitur dan label awal\n",
        "X = df[['content', 'score']]\n",
        "y = df['label']\n",
        "\n",
        "# Target jumlah berdasarkan kelas 'negatif'\n",
        "target_count = y.value_counts()['negatif']\n",
        "\n",
        "# Step 1: Undersample 'positif' ke target_count\n",
        "undersampler = RandomUnderSampler(sampling_strategy={'positif': target_count}, random_state=42)\n",
        "X_under, y_under = undersampler.fit_resample(X, y)\n",
        "\n",
        "# Step 2: Oversample 'netral' ke target_count\n",
        "oversampler = RandomOverSampler(sampling_strategy={'netral': target_count}, random_state=42)\n",
        "X_balanced, y_balanced = oversampler.fit_resample(X_under, y_under)\n",
        "\n",
        "# Buat DataFrame hasil kombinasi\n",
        "df_balanced = pd.DataFrame(X_balanced, columns=['content', 'score'])\n",
        "df_balanced['label'] = y_balanced\n",
        "\n",
        "# Cek hasil akhir\n",
        "print(\"Distribusi label setelah kombinasi undersampling dan oversampling:\")\n",
        "print(Counter(y_balanced))\n"
      ],
      "metadata": {
        "colab": {
          "base_uri": "https://localhost:8080/"
        },
        "id": "NgUDB44O0_Fm",
        "outputId": "6647ee70-ee2d-414c-a6b0-beb5dd3e3c6c"
      },
      "execution_count": null,
      "outputs": [
        {
          "output_type": "stream",
          "name": "stdout",
          "text": [
            "Distribusi label setelah kombinasi undersampling dan oversampling:\n",
            "Counter({'negatif': 54171, 'netral': 54171, 'positif': 54171})\n"
          ]
        }
      ]
    },
    {
      "cell_type": "markdown",
      "source": [
        "Distribusi Sentimem Setelah Under-Sampling"
      ],
      "metadata": {
        "id": "mwD9kNcxcyWw"
      }
    },
    {
      "cell_type": "code",
      "source": [
        "import pandas as pd\n",
        "import matplotlib.pyplot as plt\n",
        "import seaborn as sns\n",
        "from imblearn.under_sampling import RandomUnderSampler\n",
        "jumlah_sentimen_setelah = df_balanced['label'].value_counts()\n",
        "\n",
        "# Pie chart distribusi sentimen setelah undersampling\n",
        "plt.pie(jumlah_sentimen_setelah,\n",
        "        labels=jumlah_sentimen_setelah.index,\n",
        "        autopct='%1.1f%%',\n",
        "        startangle=140,\n",
        "        colors=sns.color_palette(\"Set2\"))\n",
        "plt.title('Distribusi Sentimen Setelah Undersampling')\n",
        "plt.axis('equal')\n",
        "\n",
        "# Tampilkan kedua pie chart secara rapi\n",
        "plt.tight_layout()\n",
        "plt.show()\n",
        "\n",
        "print(\"\\nDistribusi label setelah undersampling:\")\n",
        "print(jumlah_sentimen_setelah)"
      ],
      "metadata": {
        "colab": {
          "base_uri": "https://localhost:8080/",
          "height": 608
        },
        "id": "V7WZqj8S9LUy",
        "outputId": "a7b15602-27d9-48b2-da62-7c4e95ae70a7"
      },
      "execution_count": null,
      "outputs": [
        {
          "output_type": "display_data",
          "data": {
            "text/plain": [
              "<Figure size 640x480 with 1 Axes>"
            ],
            "image/png": "[encoded data removed]"
          },
          "metadata": {}
        },
        {
          "output_type": "stream",
          "name": "stdout",
          "text": [
            "\n",
            "Distribusi label setelah undersampling:\n",
            "label\n",
            "negatif    54171\n",
            "netral     54171\n",
            "positif    54171\n",
            "Name: count, dtype: int64\n"
          ]
        }
      ]
    },
    {
      "cell_type": "markdown",
      "metadata": {
        "id": "tfzGsB4lualN"
      },
      "source": [
        "\n",
        "Visualisasi Distribusi Rating Ulasan"
      ]
    },
    {
      "cell_type": "code",
      "execution_count": null,
      "metadata": {
        "colab": {
          "base_uri": "https://localhost:8080/",
          "height": 549
        },
        "id": "R2H0u8GNQ_Wx",
        "outputId": "223bf40a-dc39-49a7-8b04-65da3f3d204d"
      },
      "outputs": [
        {
          "output_type": "display_data",
          "data": {
            "text/plain": [
              "<Figure size 600x400 with 1 Axes>"
            ],
            "image/png": "[encoded data removed]"
          },
          "metadata": {}
        },
        {
          "output_type": "stream",
          "name": "stdout",
          "text": [
            "Jumlah ulasan per rating setelah undersampling:\n",
            "score\n",
            "3    54171\n",
            "5    49450\n",
            "1    45229\n",
            "2     8942\n",
            "4     4721\n",
            "Name: count, dtype: int64\n"
          ]
        }
      ],
      "source": [
        "plt.figure(figsize=(6, 4))\n",
        "sns.countplot(x=df_balanced['score'], hue=df_balanced['label'], palette='Set2')\n",
        "plt.title(\"Distribusi Rating setelah Undersampling\")\n",
        "plt.xlabel(\"Rating\")\n",
        "plt.ylabel(\"Jumlah\")\n",
        "plt.show()\n",
        "\n",
        "print(\"Jumlah ulasan per rating setelah undersampling:\")\n",
        "print(df_balanced['score'].value_counts())\n"
      ]
    },
    {
      "cell_type": "markdown",
      "metadata": {
        "id": "gv9KQiLPueqD"
      },
      "source": [
        "\n",
        "Text Preprocessing"
      ]
    },
    {
      "cell_type": "code",
      "execution_count": null,
      "metadata": {
        "id": "Tc-yXPjHREg4",
        "colab": {
          "base_uri": "https://localhost:8080/"
        },
        "outputId": "ff4aee58-7309-48ec-cda0-a7c26110d80c"
      },
      "outputs": [
        {
          "output_type": "stream",
          "name": "stdout",
          "text": [
            "                                        clean_review  score    label\n",
            "0                            akun gopay saya di blok      1  negatif\n",
            "1  lambat sekali sekarang ini bosssku apk gojek g...      3   netral\n",
            "2  kenapa sih dari kemarin sy buka aplikasi gojek...      4  positif\n",
            "3  baru download gojek dan hape baru trus ditop u...      1  negatif\n",
            "4                                             mantap      5  positif\n",
            "5                                              bagus      4  positif\n",
            "6                                          coba dulu      2  negatif\n",
            "7                                                 ok      5  positif\n",
            "8  gimana ini kak pin saya salah terus padahal ud...      1  negatif\n",
            "9  biar aman kamu tidak bisa pakai gojek jadi say...      1  negatif\n"
          ]
        }
      ],
      "source": [
        "import re\n",
        "\n",
        "def proses_teks(teks):\n",
        "    if isinstance(teks, str) or pd.isna(teks):\n",
        "        if pd.isna(teks):\n",
        "            teks = ''\n",
        "        else:\n",
        "            teks = re.sub(r'@[A-Za-z0-9_]+', '', teks)\n",
        "            teks = re.sub(r'#[A-Za-z0-9_]+', '', teks)\n",
        "            teks = re.sub(r'[²]', ' ', teks)\n",
        "            teks = re.sub(r'\\d+', ' ', teks)\n",
        "            teks = re.sub(r'[^\\w\\s]', ' ', teks)\n",
        "            teks = teks.strip()\n",
        "            teks = teks.lower()\n",
        "    else:\n",
        "        print(f\"Tipe data tidak valid: {type(teks)}\")\n",
        "        teks = str(teks)\n",
        "    return teks\n",
        "\n",
        "# Terapkan ke kolom content\n",
        "df['clean_review'] = df['content'].apply(proses_teks)\n",
        "\n",
        "# Tampilkan contoh hasil\n",
        "print(df[['clean_review', 'score', 'label']].head(10))\n"
      ]
    },
    {
      "cell_type": "markdown",
      "metadata": {
        "id": "AdUOhbl8ulep"
      },
      "source": [
        "Tokenisasi Teks\n"
      ]
    },
    {
      "cell_type": "code",
      "execution_count": null,
      "metadata": {
        "id": "OQRZtm2iRLoW",
        "colab": {
          "base_uri": "https://localhost:8080/"
        },
        "outputId": "936c1c18-7e3f-4882-d187-6b9feeaea294"
      },
      "outputs": [
        {
          "output_type": "stream",
          "name": "stdout",
          "text": [
            "                                        token_review\n",
            "0                      [akun, gopay, saya, di, blok]\n",
            "1  [lambat, sekali, sekarang, ini, bosssku, apk, ...\n",
            "2  [kenapa, sih, dari, kemarin, sy, buka, aplikas...\n",
            "3  [baru, download, gojek, dan, hape, baru, trus,...\n",
            "4                                           [mantap]\n",
            "5                                            [bagus]\n",
            "6                                       [coba, dulu]\n",
            "7                                               [ok]\n",
            "8  [gimana, ini, kak, pin, saya, salah, terus, pa...\n",
            "9  [biar, aman, kamu, tidak, bisa, pakai, gojek, ...\n"
          ]
        }
      ],
      "source": [
        "from nltk.tokenize import word_tokenize\n",
        "\n",
        "# Fungsi tokenisasi\n",
        "def tokenisasi_teks(teks):\n",
        "    return word_tokenize(teks)\n",
        "\n",
        "# Terapkan ke kolom clean_review\n",
        "df['token_review'] = df['clean_review'].apply(tokenisasi_teks)\n",
        "\n",
        "# Tampilkan hasil\n",
        "print(df[['token_review']].head(10))\n"
      ]
    },
    {
      "cell_type": "markdown",
      "metadata": {
        "id": "NRtJ7gK9upgw"
      },
      "source": [
        "Penghapusan Stopwords"
      ]
    },
    {
      "cell_type": "code",
      "execution_count": null,
      "metadata": {
        "id": "MsRxw5plRQcc",
        "colab": {
          "base_uri": "https://localhost:8080/"
        },
        "outputId": "527e7aa6-b674-4f42-94e7-9f56e89e5a4c"
      },
      "outputs": [
        {
          "output_type": "stream",
          "name": "stdout",
          "text": [
            "                                    stopword_removed\n",
            "0                                       [akun, blok]\n",
            "1                   [lambat, bosssku, apk, gk, kaya]\n",
            "2  [kemarin, sy, buka, bintang, kalo, normal, sy,...\n",
            "3  [download, hape, trus, ditop, u, transaksi, di...\n",
            "4                                           [mantap]\n",
            "5                                            [bagus]\n",
            "6                                             [coba]\n",
            "7                                                 []\n",
            "8                  [gimana, pin, salah, ubah, salah]\n",
            "9                      [aman, pakai, uninstal, aman]\n"
          ]
        }
      ],
      "source": [
        "from nltk.corpus import stopwords\n",
        "\n",
        "def filter_stopwords(teks):\n",
        "    daftar_stopwords = set(stopwords.words('indonesian'))\n",
        "    daftar_stopwords_english = set(stopwords.words('english'))\n",
        "\n",
        "    daftar_stopwords.update(daftar_stopwords_english)\n",
        "    daftar_stopwords.update([\n",
        "        'dong', 'nih', 'aja', 'kok', 'deh', 'kan', 'si', 'cuma', 'doang',\n",
        "        'makasih', 'makasi', 'makasii', 'terima', 'kasih', 'bgt', 'banget',\n",
        "        'ajaib', 'tolong', 'dah', 'udah', 'udahh', 'enggak', 'nggak',\n",
        "        'cuy', 'bro', 'sis', 'mau', 'minta', 'aplikasi', 'gojek',\n",
        "        'driver', 'ojol', 'gofood', 'gomart', 'gocar', 'gobiz',\n",
        "        'gopay', 'gopoints', 'go', 'nya', 'nyaa', 'gaes', 'temen', 'teman',\n",
        "        'dikit', 'lumayan', 'oke', 'ok', 'yah', 'hmm', 'wkwk', 'wkwkwk',    'mau', 'minta', 'pengen', 'lagi', 'dong', 'jadi', 'biar', 'lah', 'mah', 'loh', 'cie',\n",
        "        'bang', 'mbak', 'mas', 'pak', 'bu', 'om', 'tante', 'kak', 'dek', 'sobat', 'aplikasi', 'gojek', 'driver', 'ojol', 'gofood', 'gomart', 'gocar', 'gobiz',\n",
        "        'gopay', 'gopoints', 'go', 'grab', 'tokped', 'shopee', 'aja', 'banget', 'gitu', 'kayak', 'kayaknya', 'biasanya', 'sering', 'jarang', 'serasa',\n",
        "        'emang', 'sih', 'dong', 'deh', 'kan', 'nih', 'loh', 'lagi', 'udah', 'sama', 'tanpa', 'dengan', 'dalam', 'luar', 'itu', 'ini', 'ada', 'adalah', 'buat',\n",
        "        'lebih', 'kurang', 'seperti', 'biasa', 'setiap', 'semua', 'beberapa'\n",
        "    ])\n",
        "\n",
        "    hasil_filter = [kata for kata in teks if kata not in daftar_stopwords]\n",
        "    return hasil_filter\n",
        "\n",
        "# Terapkan\n",
        "df['stopword_removed'] = df['token_review'].apply(filter_stopwords)\n",
        "\n",
        "# Lihat hasilnya\n",
        "print(df[['stopword_removed']].head(10))\n"
      ]
    },
    {
      "cell_type": "markdown",
      "metadata": {
        "id": "IT9VgOZquwYe"
      },
      "source": [
        "Pemrosesan Kata Slang (Bahasa Gaul)"
      ]
    },
    {
      "cell_type": "code",
      "execution_count": null,
      "metadata": {
        "id": "r-wNALtwRZBh",
        "colab": {
          "base_uri": "https://localhost:8080/"
        },
        "outputId": "161a189d-68bc-4243-f6ea-dc5bfde7924c"
      },
      "outputs": [
        {
          "output_type": "stream",
          "name": "stdout",
          "text": [
            "                                    stopword_removed  \\\n",
            "0                                       [akun, blok]   \n",
            "1                   [lambat, bosssku, apk, gk, kaya]   \n",
            "2  [kemarin, sy, buka, bintang, kalo, normal, sy,...   \n",
            "3  [download, hape, trus, ditop, u, transaksi, di...   \n",
            "4                                           [mantap]   \n",
            "5                                            [bagus]   \n",
            "6                                             [coba]   \n",
            "7                                                 []   \n",
            "8                  [gimana, pin, salah, ubah, salah]   \n",
            "9                      [aman, pakai, uninstal, aman]   \n",
            "\n",
            "                                          normalized  \n",
            "0                                       [akun, blok]  \n",
            "1                [lambat, bosssku, apk, nggak, kaya]  \n",
            "2  [kemarin, saya, buka, bintang, kalo, normal, s...  \n",
            "3  [download, hape, terus, ditop, u, transaksi, d...  \n",
            "4                                            [hebat]  \n",
            "5                                            [bagus]  \n",
            "6                                             [coba]  \n",
            "7                                                 []  \n",
            "8                  [gimana, pin, salah, ubah, salah]  \n",
            "9                      [aman, pakai, uninstal, aman]  \n"
          ]
        }
      ],
      "source": [
        "# 1. Kamus slang yang dijabarkan dan diperluas\n",
        "kata_slang = {\n",
        "    \"gk\": \"nggak\",\n",
        "    \"ga\": \"nggak\",\n",
        "    \"tdk\": \"tidak\",\n",
        "    \"nggk\": \"nggak\",\n",
        "    \"bgt\": \"banget\",\n",
        "    \"bngt\": \"banget\",\n",
        "    \"dgn\": \"dengan\",\n",
        "    \"udh\": \"sudah\",\n",
        "    \"aja\": \"saja\",\n",
        "    \"tp\": \"tapi\",\n",
        "    \"krn\": \"karena\",\n",
        "    \"bgtu\": \"begitu\",\n",
        "    \"bgitu\": \"begitu\",\n",
        "    \"sm\": \"sama\",\n",
        "    \"sy\": \"saya\",\n",
        "    \"gw\": \"saya\",\n",
        "    \"gue\": \"saya\",\n",
        "    \"lu\": \"kamu\",\n",
        "    \"loe\": \"kamu\",\n",
        "    \"lg\": \"lagi\",\n",
        "    \"jg\": \"juga\",\n",
        "    \"dr\": \"dari\",\n",
        "    \"dri\": \"dari\",\n",
        "    \"trs\": \"terus\",\n",
        "    \"trus\": \"terus\",\n",
        "    \"bbrp\": \"beberapa\",\n",
        "    \"pake\": \"menggunakan\",\n",
        "    \"pkai\": \"menggunakan\",\n",
        "    \"dpt\": \"dapat\",\n",
        "    \"ajaib\": \"aneh\",\n",
        "    \"td\": \"tadi\",\n",
        "    \"tdi\": \"tadi\",\n",
        "    \"skrg\": \"sekarang\",\n",
        "    \"bsk\": \"besok\",\n",
        "    \"knp\": \"kenapa\",\n",
        "    \"gmn\": \"bagaimana\",\n",
        "    \"nnti\": \"nanti\",\n",
        "    \"ntar\": \"nanti\",\n",
        "    \"smg\": \"semoga\",\n",
        "    \"tq\": \"terima kasih\",\n",
        "    \"makasih\": \"terima kasih\",\n",
        "    \"makasi\": \"terima kasih\",\n",
        "    \"thx\": \"terima kasih\",\n",
        "    \"thanks\": \"terima kasih\",\n",
        "    \"plis\": \"tolong\",\n",
        "    \"pls\": \"tolong\",\n",
        "    \"banget\": \"sangat\",\n",
        "    \"yaudah\": \"baiklah\",\n",
        "    \"yah\": \"ya\",\n",
        "    \"sip\": \"baik\",\n",
        "    \"mantul\": \"mantap betul\",\n",
        "    \"mantap\": \"hebat\",\n",
        "    \"kzl\": \"kesal\",\n",
        "    \"kesel\": \"kesal\",\n",
        "    \"cape\": \"lelah\",\n",
        "    \"capek\": \"lelah\",\n",
        "    \"btw\": \"ngomong-ngomong\",\n",
        "    \"wkwk\": \"\",\n",
        "    \"wkwkwk\": \"\",\n",
        "    \"lol\": \"\",\n",
        "    \"haha\": \"\",\n",
        "    \"hehe\": \"\"\n",
        "}\n",
        "\n",
        "# 2. Fungsi normalisasi slang\n",
        "def normalisasi_slang(teks, kamus_slang):\n",
        "    return [kamus_slang.get(kata, kata) for kata in teks]\n",
        "\n",
        "# 3. Terapkan ke DataFrame\n",
        "df['normalized'] = df['stopword_removed'].apply(lambda tokens: normalisasi_slang(tokens, kata_slang))\n",
        "\n",
        "# 4. Tampilkan hasil\n",
        "print(df[['stopword_removed', 'normalized']].head(10))\n"
      ]
    },
    {
      "cell_type": "markdown",
      "metadata": {
        "id": "HsQpGP6Bu3V9"
      },
      "source": [
        "Pipeline Pembersihan dan Normalisasi Teks\n",
        "Memuat Leksikon Sentimen (Positive & Negative Word Lists)"
      ]
    },
    {
      "cell_type": "code",
      "execution_count": null,
      "metadata": {
        "id": "Lb6bSKyuRd0K"
      },
      "outputs": [],
      "source": [
        "import re\n",
        "import pandas as pd\n",
        "\n",
        "def proses_teks(teks):\n",
        "    if pd.isna(teks):\n",
        "        teks = ''\n",
        "    elif not isinstance(teks, str):\n",
        "        teks = str(teks)\n",
        "    teks = teks.lower()\n",
        "    teks = re.sub(r'@[A-Za-z0-9_]+', '', teks)\n",
        "    teks = re.sub(r'#[A-Za-z0-9_]+', '', teks)\n",
        "    teks = re.sub(r'[²]', ' ', teks)\n",
        "    teks = re.sub(r'\\d+', ' ', teks)\n",
        "    teks = re.sub(r'[^\\w\\s]', ' ', teks)\n",
        "    teks = re.sub(r'\\s+', ' ', teks)\n",
        "    teks = teks.strip()\n",
        "    return teks\n"
      ]
    },
    {
      "cell_type": "markdown",
      "metadata": {
        "id": "yqUt6VjvvUmz"
      },
      "source": [
        "Data Preparation"
      ]
    },
    {
      "cell_type": "code",
      "execution_count": null,
      "metadata": {
        "id": "pSP8jtD-a4If"
      },
      "outputs": [],
      "source": [
        "# Gunakan df_balanced\n",
        "df_balanced['clean_content'] = df_balanced['content'].apply(proses_teks)\n",
        "\n",
        "# Fitur teks dan label numerik\n",
        "fitur = df_balanced['clean_content']\n",
        "label = df_balanced['label'].map({'negatif': 0, 'netral': 1, 'positif': 2})\n",
        "label = label.fillna(1)\n"
      ]
    },
    {
      "cell_type": "markdown",
      "metadata": {
        "id": "heh9vrFFvXRQ"
      },
      "source": [
        "Feature Engineering\n",
        "Vektorisasi Teks Menggunakan TF-IDF"
      ]
    },
    {
      "cell_type": "code",
      "execution_count": null,
      "metadata": {
        "colab": {
          "base_uri": "https://localhost:8080/"
        },
        "id": "XcsXRUGFa7yT",
        "outputId": "8d55d006-3654-4c8e-d568-894ab98e2bcc"
      },
      "outputs": [
        {
          "output_type": "stream",
          "name": "stdout",
          "text": [
            "Ringkasan Fitur dan Data:\n",
            "Dimensi fitur TF-IDF: (162513, 10000)\n"
          ]
        }
      ],
      "source": [
        "from sklearn.feature_extraction.text import TfidfVectorizer\n",
        "\n",
        "tfidf = TfidfVectorizer(max_features=10000)\n",
        "fitur_tfidf = tfidf.fit_transform(fitur)\n",
        "\n",
        "print(\"Ringkasan Fitur dan Data:\")\n",
        "print(f\"Dimensi fitur TF-IDF: {fitur_tfidf.shape}\")\n"
      ]
    },
    {
      "cell_type": "markdown",
      "metadata": {
        "id": "HR47H77QvbiO"
      },
      "source": [
        "\n",
        "Praprocessing Teks untuk Model LSTM"
      ]
    },
    {
      "cell_type": "code",
      "execution_count": null,
      "metadata": {
        "id": "baOqzTHGbGOL",
        "colab": {
          "base_uri": "https://localhost:8080/"
        },
        "outputId": "16ca762c-51c4-449a-90bc-e74aff42d2ea"
      },
      "outputs": [
        {
          "output_type": "stream",
          "name": "stdout",
          "text": [
            "Jumlah kelas: 3\n",
            "Dimensi urutan fitur: (162513, 100)\n",
            "Ukuran kosa kata: 56870 kata\n",
            "Total Sampel:\n",
            "Set pelatihan: 113758 sampel\n",
            "Set validasi : 16252 sampel\n",
            "Set pengujian: 32503 sampel\n"
          ]
        }
      ],
      "source": [
        "import numpy as np\n",
        "from tensorflow.keras.preprocessing.text import Tokenizer\n",
        "from tensorflow.keras.preprocessing.sequence import pad_sequences\n",
        "from sklearn.model_selection import train_test_split\n",
        "\n",
        "tokenizer = Tokenizer(num_words=10000)\n",
        "tokenizer.fit_on_texts(fitur)\n",
        "\n",
        "fitur_sekuensial = tokenizer.texts_to_sequences(fitur)\n",
        "fitur_padat = pad_sequences(fitur_sekuensial, maxlen=100)\n",
        "\n",
        "print(f\"Jumlah kelas: {len(np.unique(label))}\")\n",
        "print(f\"Dimensi urutan fitur: {fitur_padat.shape}\")\n",
        "print(f\"Ukuran kosa kata: {len(tokenizer.word_index)} kata\")\n",
        "\n",
        "# Split untuk LSTM\n",
        "fitur_latih_lstm, fitur_uji_lstm, label_latih_lstm, label_uji_lstm = train_test_split(\n",
        "    fitur_padat, label, test_size=0.2, random_state=42\n",
        ")\n",
        "fitur_latih_lstm, fitur_validasi_lstm, label_latih_lstm, label_validasi_lstm = train_test_split(\n",
        "    fitur_latih_lstm, label_latih_lstm, test_size=0.125, random_state=42\n",
        ")\n",
        "\n",
        "print(\"Total Sampel:\")\n",
        "print(f\"Set pelatihan: {fitur_latih_lstm.shape[0]} sampel\")\n",
        "print(f\"Set validasi : {fitur_validasi_lstm.shape[0]} sampel\")\n",
        "print(f\"Set pengujian: {fitur_uji_lstm.shape[0]} sampel\")\n"
      ]
    },
    {
      "cell_type": "markdown",
      "metadata": {
        "id": "gRa9545Evoge"
      },
      "source": [
        "\n",
        "Membangun dan Melatih Model LSTM untuk Klasifikasi Sentimen"
      ]
    },
    {
      "cell_type": "code",
      "execution_count": null,
      "metadata": {
        "colab": {
          "base_uri": "https://localhost:8080/"
        },
        "id": "Sfj95T_zb0vm",
        "outputId": "bef11113-a249-4980-b4ce-419a6482907f"
      },
      "outputs": [
        {
          "output_type": "stream",
          "name": "stdout",
          "text": [
            "Epoch 1/5\n",
            "\u001b[1m1778/1778\u001b[0m \u001b[32m━━━━━━━━━━━━━━━━━━━━\u001b[0m\u001b[37m\u001b[0m \u001b[1m641s\u001b[0m 357ms/step - accuracy: 0.6453 - loss: 0.7660 - val_accuracy: 0.7477 - val_loss: 0.6162 - learning_rate: 0.0010\n",
            "Epoch 2/5\n",
            "\u001b[1m1778/1778\u001b[0m \u001b[32m━━━━━━━━━━━━━━━━━━━━\u001b[0m\u001b[37m\u001b[0m \u001b[1m677s\u001b[0m 355ms/step - accuracy: 0.7594 - loss: 0.5989 - val_accuracy: 0.7656 - val_loss: 0.5757 - learning_rate: 0.0010\n",
            "Epoch 3/5\n",
            "\u001b[1m1778/1778\u001b[0m \u001b[32m━━━━━━━━━━━━━━━━━━━━\u001b[0m\u001b[37m\u001b[0m \u001b[1m640s\u001b[0m 360ms/step - accuracy: 0.7900 - loss: 0.5303 - val_accuracy: 0.7889 - val_loss: 0.5403 - learning_rate: 0.0010\n",
            "Epoch 4/5\n",
            "\u001b[1m1778/1778\u001b[0m \u001b[32m━━━━━━━━━━━━━━━━━━━━\u001b[0m\u001b[37m\u001b[0m \u001b[1m639s\u001b[0m 359ms/step - accuracy: 0.8149 - loss: 0.4793 - val_accuracy: 0.8037 - val_loss: 0.5146 - learning_rate: 0.0010\n",
            "Epoch 5/5\n",
            "\u001b[1m1778/1778\u001b[0m \u001b[32m━━━━━━━━━━━━━━━━━━━━\u001b[0m\u001b[37m\u001b[0m \u001b[1m681s\u001b[0m 359ms/step - accuracy: 0.8285 - loss: 0.4455 - val_accuracy: 0.8086 - val_loss: 0.5066 - learning_rate: 0.0010\n"
          ]
        }
      ],
      "source": [
        "from tensorflow.keras.models import Sequential\n",
        "from tensorflow.keras.layers import Embedding, LSTM, Dense, SpatialDropout1D\n",
        "from tensorflow.keras.optimizers import Adam\n",
        "from tensorflow.keras.callbacks import EarlyStopping, ReduceLROnPlateau\n",
        "\n",
        "# Buat model LSTM\n",
        "model_lstm = Sequential([\n",
        "    Embedding(input_dim=10000, output_dim=128, input_length=100),  # Sesuai tokenizer & pad_sequences\n",
        "    SpatialDropout1D(0.4),\n",
        "    LSTM(128, dropout=0.3, recurrent_dropout=0.3),\n",
        "    Dense(3, activation='softmax')  # 3 kelas: negatif, netral, positif\n",
        "])\n",
        "\n",
        "# Kompilasi model\n",
        "model_lstm.compile(\n",
        "    loss='sparse_categorical_crossentropy',\n",
        "    optimizer=Adam(),\n",
        "    metrics=['accuracy']\n",
        ")\n",
        "\n",
        "# Callbacks\n",
        "callback_early_stopping = EarlyStopping(\n",
        "    monitor='val_loss',\n",
        "    patience=2,\n",
        "    restore_best_weights=True\n",
        ")\n",
        "callback_lr_reduction = ReduceLROnPlateau(\n",
        "    monitor='val_loss',\n",
        "    factor=0.5,\n",
        "    patience=2\n",
        ")\n",
        "\n",
        "callbacks = [callback_early_stopping, callback_lr_reduction]\n",
        "\n",
        "# Latih model (gunakan data hasil padding & label numerik)\n",
        "riwayat_latihan = model_lstm.fit(\n",
        "    fitur_latih_lstm, label_latih_lstm,\n",
        "    validation_data=(fitur_validasi_lstm, label_validasi_lstm),\n",
        "    epochs=5,\n",
        "    batch_size=64,\n",
        "    verbose=1,\n",
        "    callbacks=callbacks\n",
        ")\n"
      ]
    },
    {
      "cell_type": "markdown",
      "metadata": {
        "id": "k3U2byBp4OUG"
      },
      "source": [
        "Evaluasi dan Visualisasi Performa Model LSTM"
      ]
    },
    {
      "cell_type": "code",
      "execution_count": null,
      "metadata": {
        "colab": {
          "base_uri": "https://localhost:8080/",
          "height": 866
        },
        "id": "Kc5N5Gn_4PvI",
        "outputId": "ab8920af-b757-4c10-9b31-197f13b98e9b"
      },
      "outputs": [
        {
          "output_type": "stream",
          "name": "stdout",
          "text": [
            "\u001b[1m1016/1016\u001b[0m \u001b[32m━━━━━━━━━━━━━━━━━━━━\u001b[0m\u001b[37m\u001b[0m \u001b[1m53s\u001b[0m 52ms/step - accuracy: 0.8150 - loss: 0.4995\n",
            "\n",
            "Evaluasi Model LSTM\n",
            "Akurasi pelatihan per epoch terakhir: 0.8265\n",
            "Akurasi pengujian akhir: 0.8135\n",
            "\u001b[1m1016/1016\u001b[0m \u001b[32m━━━━━━━━━━━━━━━━━━━━\u001b[0m\u001b[37m\u001b[0m \u001b[1m49s\u001b[0m 47ms/step\n",
            "\n",
            "Kelas unik dalam label_uji_lstm:\n",
            "[0 1 2]\n",
            "\n",
            "Kelas unik dalam prediksi:\n",
            "[0 1 2]\n",
            "\n",
            "Laporan Klasifikasi:\n",
            "              precision    recall  f1-score   support\n",
            "\n",
            "     negatif       0.84      0.76      0.79     10651\n",
            "      netral       0.75      0.80      0.77     10876\n",
            "     positif       0.86      0.89      0.87     10976\n",
            "\n",
            "    accuracy                           0.81     32503\n",
            "   macro avg       0.81      0.81      0.81     32503\n",
            "weighted avg       0.81      0.81      0.81     32503\n",
            "\n",
            "label\n",
            "2    10976\n",
            "1    10876\n",
            "0    10651\n",
            "Name: count, dtype: int64\n"
          ]
        },
        {
          "output_type": "display_data",
          "data": {
            "text/plain": [
              "<Figure size 1200x600 with 2 Axes>"
            ],
            "image/png": "[encoded data removed]"
          },
          "metadata": {}
        }
      ],
      "source": [
        "# Mengambil nilai akurasi pelatihan terakhir\n",
        "akurasi_latih = riwayat_latihan.history['accuracy']\n",
        "\n",
        "# Evaluasi terhadap data pengujian\n",
        "kerugian_uji, akurasi_lstm = model_lstm.evaluate(fitur_uji_lstm, label_uji_lstm)\n",
        "\n",
        "# Menampilkan hasil evaluasi\n",
        "print(\"\\nEvaluasi Model LSTM\")\n",
        "print(f\"Akurasi pelatihan per epoch terakhir: {akurasi_latih[-1]:.4f}\")\n",
        "print(f\"Akurasi pengujian akhir: {akurasi_lstm:.4f}\")\n",
        "\n",
        "# Prediksi terhadap data uji\n",
        "y_prediksi = np.argmax(model_lstm.predict(fitur_uji_lstm), axis=1)\n",
        "\n",
        "# Check the unique values in labels\n",
        "print(\"\\nKelas unik dalam label_uji_lstm:\")\n",
        "unique_labels = np.unique(label_uji_lstm)\n",
        "print(unique_labels)\n",
        "\n",
        "print(\"\\nKelas unik dalam prediksi:\")\n",
        "unique_preds = np.unique(y_prediksi)\n",
        "print(unique_preds)\n",
        "\n",
        "# Menampilkan laporan klasifikasi dengan label yang ada\n",
        "print(\"\\nLaporan Klasifikasi:\")\n",
        "# Get the actual classes present in both true and predicted labels\n",
        "all_classes = sorted(list(set(np.concatenate([unique_labels, unique_preds]))))\n",
        "all_classes = [int(x) for x in all_classes]\n",
        "# Create target names based on actual classes\n",
        "target_names = [['negatif', 'netral', 'positif'][i] for i in all_classes] if len(all_classes) <= 3 else [f'class_{i}' for i in all_classes]\n",
        "\n",
        "# Generate classification report with only the classes that are present\n",
        "print(classification_report(label_uji_lstm, y_prediksi, labels=all_classes, target_names=target_names))\n",
        "\n",
        "# Show the value counts\n",
        "if hasattr(label_uji_lstm, 'value_counts'):\n",
        "    print(label_uji_lstm.value_counts())\n",
        "else:\n",
        "    print(\"Distribusi label pengujian:\")\n",
        "    unique, counts = np.unique(label_uji_lstm, return_counts=True)\n",
        "    for u, c in zip(unique, counts):\n",
        "        print(f\"Kelas {u}: {c} sampel\")\n",
        "\n",
        "# Visualisasi loss dan akurasi selama pelatihan\n",
        "plt.figure(figsize=(12, 6))\n",
        "\n",
        "# Plot loss\n",
        "plt.subplot(1, 2, 1)\n",
        "plt.plot(riwayat_latihan.history['loss'], label='Loss Pelatihan')\n",
        "plt.plot(riwayat_latihan.history['val_loss'], label='Loss Validasi')\n",
        "plt.title('Perkembangan Loss Selama Pelatihan')\n",
        "plt.xlabel('Epoch')\n",
        "plt.ylabel('Loss')\n",
        "plt.legend()\n",
        "\n",
        "# Plot akurasi\n",
        "plt.subplot(1, 2, 2)\n",
        "plt.plot(riwayat_latihan.history['accuracy'], label='Akurasi Pelatihan')\n",
        "plt.plot(riwayat_latihan.history['val_accuracy'], label='Akurasi Validasi')\n",
        "plt.title('Perkembangan Akurasi Selama Pelatihan')\n",
        "plt.xlabel('Epoch')\n",
        "plt.ylabel('Akurasi')\n",
        "plt.legend()\n",
        "\n",
        "plt.tight_layout()\n",
        "plt.show()"
      ]
    },
    {
      "cell_type": "code",
      "source": [
        "# Fungsi untuk prediksi sentimen satu kalimat dari user\n",
        "def uji_input_sentimen():\n",
        "    # Input dari user\n",
        "    teks_input = input(\"Masukkan kalimat yang ingin diuji: \")\n",
        "\n",
        "    # Praproses teks\n",
        "    teks_bersih = proses_teks(teks_input)\n",
        "\n",
        "    # Tokenisasi dan padding\n",
        "    sekuens_teks = tokenizer.texts_to_sequences([teks_bersih])\n",
        "    sekuens_pad = pad_sequences(sekuens_teks, maxlen=100)  # Sesuai input_length LSTM\n",
        "\n",
        "    # Prediksi menggunakan model\n",
        "    prediksi = model_lstm.predict(sekuens_pad, verbose=0)\n",
        "    label_index = np.argmax(prediksi)\n",
        "    label = ['negatif', 'netral', 'positif'][label_index]\n",
        "    skor = float(prediksi[0][label_index])\n",
        "    distribusi = prediksi[0]\n",
        "\n",
        "    # Tampilkan hasil\n",
        "    print(\"\\n=== Hasil Analisis Sentimen ===\")\n",
        "    print(f\"Teks Asli: {teks_input}\")\n",
        "    print(f\"Sentimen: {label}\")\n",
        "    print(f\"Skor Probabilitas: {skor:.4f}\")\n",
        "    print(f\"Distribusi (negatif, netral, positif): {distribusi}\")\n",
        "\n",
        "# Panggil fungsi ini untuk melakukan pengujian\n",
        "uji_input_sentimen()\n"
      ],
      "metadata": {
        "colab": {
          "base_uri": "https://localhost:8080/"
        },
        "id": "Z9HMkG2giHUF",
        "outputId": "1ff5ba8d-219c-44f4-8d97-a9cfa938d808"
      },
      "execution_count": null,
      "outputs": [
        {
          "output_type": "stream",
          "name": "stdout",
          "text": [
            "Masukkan kalimat yang ingin diuji: aplikasi bagus\n",
            "\n",
            "=== Hasil Analisis Sentimen ===\n",
            "Teks Asli: aplikasi bagus\n",
            "Sentimen: positif\n",
            "Skor Probabilitas: 0.8234\n",
            "Distribusi (negatif, netral, positif): [0.05526476 0.12131177 0.8234235 ]\n"
          ]
        }
      ]
    },
    {
      "cell_type": "markdown",
      "metadata": {
        "id": "hAOJ18Hw4ZhL"
      },
      "source": [
        "Visualisasi Confusion Matrix Model LSTM"
      ]
    },
    {
      "cell_type": "code",
      "execution_count": null,
      "metadata": {
        "colab": {
          "base_uri": "https://localhost:8080/",
          "height": 507
        },
        "id": "iiAst0q54a0u",
        "outputId": "a5aa9c82-b2d3-4aa7-eb5c-3bf045074e5a"
      },
      "outputs": [
        {
          "output_type": "display_data",
          "data": {
            "text/plain": [
              "<Figure size 600x500 with 2 Axes>"
            ],
            "image/png": "[encoded data removed]"
          },
          "metadata": {}
        }
      ],
      "source": [
        "# Membuat confusion matrix\n",
        "matriks_konfusi = confusion_matrix(label_uji_lstm, y_prediksi)\n",
        "\n",
        "# Menentukan label kelas\n",
        "label_kategori = ['Negatif', 'Netral', 'Positif']\n",
        "\n",
        "# Menampilkan confusion matrix dengan heatmap\n",
        "plt.figure(figsize=(6, 5))\n",
        "sns.heatmap(matriks_konfusi, annot=True, fmt='d', cmap='Blues',\n",
        "            xticklabels=label_kategori, yticklabels=label_kategori)\n",
        "plt.title('Confusion Matrix Sentimen')\n",
        "plt.xlabel('Prediksi')\n",
        "plt.ylabel('Aktual')\n",
        "plt.tight_layout()\n",
        "plt.show()"
      ]
    },
    {
      "cell_type": "markdown",
      "metadata": {
        "id": "u0VpeGqh4d16"
      },
      "source": [
        "Menghitung Akurasi, Precision, Recall, dan F1-score dari Confusion Matrix"
      ]
    },
    {
      "cell_type": "code",
      "execution_count": null,
      "metadata": {
        "id": "ZTJNlISx4hHE",
        "colab": {
          "base_uri": "https://localhost:8080/"
        },
        "outputId": "22821dff-a112-41f6-9e40-eca90cb4e038"
      },
      "outputs": [
        {
          "output_type": "stream",
          "name": "stdout",
          "text": [
            "Confusion Matrix:\n",
            "[[8048 2167  436]\n",
            " [1028 8664 1184]\n",
            " [ 555  691 9730]]\n",
            "\n",
            "Kelas: Negatif\n",
            "  Precision: 0.8356\n",
            "  Recall:    0.7556\n",
            "  F1-score:  0.7936\n",
            "\n",
            "Kelas: Netral\n",
            "  Precision: 0.7520\n",
            "  Recall:    0.7966\n",
            "  F1-score:  0.7736\n",
            "\n",
            "Kelas: Positif\n",
            "  Precision: 0.8573\n",
            "  Recall:    0.8865\n",
            "  F1-score:  0.8716\n",
            "\n",
            "Akurasi Keseluruhan: 0.8135\n"
          ]
        }
      ],
      "source": [
        "# Ambil nilai dari confusion matrix\n",
        "TN, FP, FN, TP = None, None, None, None  # placeholder untuk binary, kita hitung secara multi-kelas\n",
        "\n",
        "# Mengambil nilai matrix\n",
        "cm = confusion_matrix(label_uji_lstm, y_prediksi)\n",
        "print(\"Confusion Matrix:\")\n",
        "print(cm)\n",
        "\n",
        "# Hitung metrik per kelas\n",
        "for i, kelas in enumerate(['Negatif', 'Netral', 'Positif']):\n",
        "    TP = cm[i, i]\n",
        "    FP = cm[:, i].sum() - TP\n",
        "    FN = cm[i, :].sum() - TP\n",
        "    TN = cm.sum() - (TP + FP + FN)\n",
        "\n",
        "    precision = TP / (TP + FP) if (TP + FP) != 0 else 0\n",
        "    recall = TP / (TP + FN) if (TP + FN) != 0 else 0\n",
        "    f1 = 2 * precision * recall / (precision + recall) if (precision + recall) != 0 else 0\n",
        "\n",
        "    print(f\"\\nKelas: {kelas}\")\n",
        "    print(f\"  Precision: {precision:.4f}\")\n",
        "    print(f\"  Recall:    {recall:.4f}\")\n",
        "    print(f\"  F1-score:  {f1:.4f}\")\n",
        "\n",
        "# Hitung akurasi keseluruhan\n",
        "akurasi_total = np.trace(cm) / np.sum(cm)\n",
        "print(f\"\\nAkurasi Keseluruhan: {akurasi_total:.4f}\")\n"
      ]
    },
    {
      "cell_type": "markdown",
      "metadata": {
        "id": "jknCHQ5v4qKR"
      },
      "source": [
        "Traditional Machine Learning Models\n",
        "SVM + TF-IDF (80/20)\n",
        "Membagi Data Pelatihan dan Pengujian"
      ]
    },
    {
      "cell_type": "code",
      "execution_count": null,
      "metadata": {
        "id": "VgIMkw9J4pv6",
        "colab": {
          "base_uri": "https://localhost:8080/"
        },
        "outputId": "453b48bd-97ff-4758-b773-6d31143cf466"
      },
      "outputs": [
        {
          "output_type": "stream",
          "name": "stdout",
          "text": [
            "Total Sampel:\n",
            "Set pelatihan: 130010 sampel\n",
            "Set pengujian: 32503 sampel\n"
          ]
        }
      ],
      "source": [
        "# Membagi Data menjadi Set Pelatihan dan Pengujian\n",
        "from sklearn.model_selection import train_test_split # Import train_test_split\n",
        "\n",
        "X_latih_svm, X_uji_svm, y_latih_svm, y_uji_svm = train_test_split(fitur_tfidf, label, test_size=0.2, random_state=42)\n",
        "\n",
        "print(\"Total Sampel:\")\n",
        "print(f\"Set pelatihan: {X_latih_svm.shape[0]} sampel\")\n",
        "print(f\"Set pengujian: {X_uji_svm.shape[0]} sampel\")"
      ]
    },
    {
      "cell_type": "markdown",
      "metadata": {
        "id": "KZvQKHpp4vYs"
      },
      "source": [
        "Pelatihan dan Prediksi Model SVM"
      ]
    },
    {
      "cell_type": "code",
      "execution_count": null,
      "metadata": {
        "id": "hmiwd1tOW2dy",
        "colab": {
          "base_uri": "https://localhost:8080/"
        },
        "outputId": "52a48806-cb75-4211-efb7-a3c87932f406"
      },
      "outputs": [
        {
          "output_type": "stream",
          "name": "stdout",
          "text": [
            "Melatih model, mohon tunggu...\n",
            "Akurasi: 0.7732516998430914\n",
            "\n",
            "Laporan Klasifikasi:\n",
            "               precision    recall  f1-score   support\n",
            "\n",
            "           0       0.76      0.74      0.75     10651\n",
            "           1       0.74      0.70      0.72     10876\n",
            "           2       0.82      0.88      0.85     10976\n",
            "\n",
            "    accuracy                           0.77     32503\n",
            "   macro avg       0.77      0.77      0.77     32503\n",
            "weighted avg       0.77      0.77      0.77     32503\n",
            "\n"
          ]
        }
      ],
      "source": [
        "from sklearn.svm import LinearSVC\n",
        "from sklearn.calibration import CalibratedClassifierCV\n",
        "from sklearn.preprocessing import StandardScaler\n",
        "from sklearn.metrics import classification_report, accuracy_score\n",
        "\n",
        "# 1. Standarisasi data with with_mean=False for sparse matrix\n",
        "scaler = StandardScaler(with_mean=False) #  This line is changed\n",
        "X_latih_svm_scaled = scaler.fit_transform(X_latih_svm)\n",
        "X_uji_svm_scaled = scaler.transform(X_uji_svm)\n",
        "\n",
        "# 2. Inisialisasi LinearSVC dan kalibrasi untuk output probabilitas\n",
        "base_svm = LinearSVC(max_iter=10000)  # Naikkan max_iter agar pasti konvergen\n",
        "model_svm = CalibratedClassifierCV(base_svm, cv=3)  # Mengkalibrasi output probabilitas\n",
        "\n",
        "# 3. Latih model\n",
        "print(\"Melatih model, mohon tunggu...\")\n",
        "model_svm.fit(X_latih_svm_scaled, y_latih_svm)\n",
        "\n",
        "# 4. Prediksi\n",
        "y_pred_svm = model_svm.predict(X_uji_svm_scaled)\n",
        "\n",
        "# 5. Evaluasi\n",
        "print(\"Akurasi:\", accuracy_score(y_uji_svm, y_pred_svm))\n",
        "print(\"\\nLaporan Klasifikasi:\\n\", classification_report(y_uji_svm, y_pred_svm))\n",
        "\n",
        "# 6. (Opsional) Probabilitas prediksi\n",
        "y_prob_svm = model_svm.predict_proba(X_uji_svm_scaled)"
      ]
    },
    {
      "cell_type": "markdown",
      "metadata": {
        "id": "_-QyVTab4yvN"
      },
      "source": [
        "Evaluasi Model SVM Berbasis TF-IDF"
      ]
    },
    {
      "cell_type": "code",
      "execution_count": null,
      "metadata": {
        "id": "cci_1Drx43Gc",
        "colab": {
          "base_uri": "https://localhost:8080/",
          "height": 860
        },
        "outputId": "9e6a0fcd-22a0-417d-84ca-41ff122bea80"
      },
      "outputs": [
        {
          "output_type": "stream",
          "name": "stdout",
          "text": [
            "\n",
            "Evaluasi Model SVM + TF-IDF\n",
            "\n",
            "Akurasi Latih: 0.3322\n",
            "Akurasi Uji: 0.7733\n",
            "\n",
            "Laporan Klasifikasi:\n",
            "              precision    recall  f1-score   support\n",
            "\n",
            "     negatif       0.76      0.74      0.75     10651\n",
            "      netral       0.74      0.70      0.72     10876\n",
            "     positif       0.82      0.88      0.85     10976\n",
            "\n",
            "    accuracy                           0.77     32503\n",
            "   macro avg       0.77      0.77      0.77     32503\n",
            "weighted avg       0.77      0.77      0.77     32503\n",
            "\n"
          ]
        },
        {
          "output_type": "display_data",
          "data": {
            "text/plain": [
              "<Figure size 800x600 with 2 Axes>"
            ],
            "image/png": "[encoded data removed]"
          },
          "metadata": {}
        }
      ],
      "source": [
        "# Evaluasi Model\n",
        "akurasi_latih_svm = accuracy_score(y_latih_svm, model_svm.predict(X_latih_svm))\n",
        "akurasi_svm = accuracy_score(y_uji_svm, y_pred_svm)\n",
        "\n",
        "print(\"\\nEvaluasi Model SVM + TF-IDF\")\n",
        "print(f'\\nAkurasi Latih: {akurasi_latih_svm:.4f}')\n",
        "print(f'Akurasi Uji: {akurasi_svm:.4f}')\n",
        "\n",
        "print(\"\\nLaporan Klasifikasi:\")\n",
        "print(classification_report(y_uji_svm, y_pred_svm, target_names=['negatif', 'netral', 'positif']))\n",
        "\n",
        "# Plot Matriks Kebingungannya\n",
        "plt.figure(figsize=(8, 6))\n",
        "cm = confusion_matrix(y_uji_svm, y_pred_svm)\n",
        "sns.heatmap(cm, annot=True, fmt='d', cmap='Blues', xticklabels=['negatif', 'netral', 'positif'],\n",
        "            yticklabels=['negatif', 'netral', 'positif'])\n",
        "plt.title('Confusion Matrix SVM')\n",
        "plt.xlabel('Prediksi')\n",
        "plt.ylabel('Aktual')\n",
        "plt.tight_layout()\n",
        "plt.show()\n"
      ]
    },
    {
      "cell_type": "code",
      "source": [
        "# Fungsi pengujian satu kalimat menggunakan model SVM\n",
        "def uji_input_svm():\n",
        "    # Input dari user\n",
        "    teks_input = input(\"Masukkan kalimat untuk diuji dengan SVM: \")\n",
        "\n",
        "    # Praproses teks\n",
        "    teks_bersih = proses_teks(teks_input)\n",
        "\n",
        "    # Transformasi dengan TF-IDF (menggunakan tfidf yang sudah fit sebelumnya)\n",
        "    tfidf_input = tfidf.transform([teks_bersih])\n",
        "\n",
        "    # Prediksi menggunakan model SVM\n",
        "    prediksi = model_svm.predict(tfidf_input)[0]\n",
        "\n",
        "    # Konversi label angka ke nama\n",
        "    label_nama = {0: 'negatif', 1: 'netral', 2: 'positif'}.get(prediksi, \"tidak diketahui\")\n",
        "\n",
        "    # Tampilkan hasil\n",
        "    print(\"\\n=== Hasil Analisis Sentimen (SVM) ===\")\n",
        "    print(f\"Teks: {teks_input}\")\n",
        "    print(f\"Prediksi Sentimen: {label_nama} (Label: {prediksi})\")\n",
        "\n",
        "# Contoh pemanggilan fungsi\n",
        "uji_input_svm()\n"
      ],
      "metadata": {
        "colab": {
          "base_uri": "https://localhost:8080/"
        },
        "id": "rKsXEk2EWqoD",
        "outputId": "3aa16803-334f-46d4-f0e9-0357b239d083"
      },
      "execution_count": null,
      "outputs": [
        {
          "output_type": "stream",
          "name": "stdout",
          "text": [
            "Masukkan kalimat untuk diuji dengan SVM: aplikasi jelek\n",
            "\n",
            "=== Hasil Analisis Sentimen (SVM) ===\n",
            "Teks: aplikasi jelek\n",
            "Prediksi Sentimen: positif (Label: 2)\n"
          ]
        }
      ]
    },
    {
      "cell_type": "markdown",
      "metadata": {
        "id": "9PpX2y5b46S9"
      },
      "source": [
        "\n",
        "Random Forest + TF-IDF (70/30)\n",
        "Membagi Data Pelatihan dan Pengujian"
      ]
    },
    {
      "cell_type": "code",
      "execution_count": null,
      "metadata": {
        "id": "gpNJNr6U4894",
        "colab": {
          "base_uri": "https://localhost:8080/"
        },
        "outputId": "46b29c34-941b-4798-fe72-ca214f762744"
      },
      "outputs": [
        {
          "output_type": "stream",
          "name": "stdout",
          "text": [
            "Jumlah Sampel: \n",
            "Set Latih: 113759 sampel\n",
            "Set Uji: 48754 sampel\n"
          ]
        }
      ],
      "source": [
        "# Bagi Data menjadi Set Latih dan Set Uji (70% Latih, 30% Uji)\n",
        "X_latih_rf, X_uji_rf, y_latih_rf, y_uji_rf = train_test_split(fitur_tfidf, label, test_size=0.3, random_state=42)\n",
        "\n",
        "print(\"Jumlah Sampel: \")\n",
        "print(f\"Set Latih: {X_latih_rf.shape[0]} sampel\")\n",
        "print(f\"Set Uji: {X_uji_rf.shape[0]} sampel\")"
      ]
    },
    {
      "cell_type": "markdown",
      "metadata": {
        "id": "q3tX3zp05CHC"
      },
      "source": [
        "Inisialisasi dan Pelatihan Model Random Forest untuk Klasifikasi Sentimen"
      ]
    },
    {
      "cell_type": "code",
      "execution_count": null,
      "metadata": {
        "id": "GyWEHbVa5F3X"
      },
      "outputs": [],
      "source": [
        "# Inisialisasi Model Random Forest dengan Penyesuaian Hyperparameter\n",
        "rf_model = RandomForestClassifier(\n",
        "    n_estimators=300,\n",
        "    max_depth=None,\n",
        "    min_samples_split=5,\n",
        "    min_samples_leaf=2,\n",
        "    random_state=42\n",
        ")\n",
        "\n",
        "# Latih Model\n",
        "rf_model.fit(X_latih_rf, y_latih_rf)\n",
        "\n",
        "# Lakukan Prediksi\n",
        "y_pred_rf = rf_model.predict(X_uji_rf)"
      ]
    },
    {
      "cell_type": "markdown",
      "metadata": {
        "id": "E1xvSD405IOt"
      },
      "source": [
        "Evaluasi Model Random Forest dengan Representasi TF-IDF"
      ]
    },
    {
      "cell_type": "code",
      "execution_count": null,
      "metadata": {
        "id": "3Eq4MzqA5LKW",
        "colab": {
          "base_uri": "https://localhost:8080/",
          "height": 836
        },
        "outputId": "ac90f1b7-fe6f-42a8-a2d0-209ed21ed8c3"
      },
      "outputs": [
        {
          "output_type": "stream",
          "name": "stdout",
          "text": [
            "\n",
            "Evaluasi Model Random Forest dengan TF-IDF\n",
            "Akurasi Latih: 0.8905\n",
            "Akurasi Uji: 0.8515\n",
            "\n",
            "Laporan Klasifikasi:\n",
            "              precision    recall  f1-score   support\n",
            "\n",
            "     negatif       0.82      0.90      0.86     16119\n",
            "      netral       0.91      0.79      0.85     16317\n",
            "     positif       0.84      0.86      0.85     16318\n",
            "\n",
            "    accuracy                           0.85     48754\n",
            "   macro avg       0.86      0.85      0.85     48754\n",
            "weighted avg       0.86      0.85      0.85     48754\n",
            "\n"
          ]
        },
        {
          "output_type": "display_data",
          "data": {
            "text/plain": [
              "<Figure size 800x600 with 2 Axes>"
            ],
            "image/png": "[encoded data removed]"
          },
          "metadata": {}
        }
      ],
      "source": [
        "# Evaluasi Model\n",
        "akurat_latih = accuracy_score(y_latih_rf, rf_model.predict(X_latih_rf))\n",
        "akurat_uji_rf = accuracy_score(y_uji_rf, y_pred_rf)\n",
        "\n",
        "print(\"\\nEvaluasi Model Random Forest dengan TF-IDF\")\n",
        "print(f\"Akurasi Latih: {akurat_latih:.4f}\")\n",
        "print(f\"Akurasi Uji: {akurat_uji_rf:.4f}\")\n",
        "\n",
        "print(\"\\nLaporan Klasifikasi:\")\n",
        "print(classification_report(y_uji_rf, y_pred_rf, target_names=['negatif', 'netral', 'positif']))\n",
        "\n",
        "# Plot Matriks Kebingungannya\n",
        "plt.figure(figsize=(8, 6))\n",
        "cm = confusion_matrix(y_uji_rf, y_pred_rf)\n",
        "sns.heatmap(cm, annot=True, fmt='d', cmap='Blues',\n",
        "            xticklabels=['negatif', 'netral', 'positif'],\n",
        "            yticklabels=['negatif', 'netral', 'positif'])\n",
        "plt.title('Matriks Kebingungannya Random Forest')\n",
        "plt.xlabel('Prediksi')\n",
        "plt.ylabel('Sebenarnya')\n",
        "plt.tight_layout()\n",
        "plt.show()\n"
      ]
    },
    {
      "cell_type": "code",
      "source": [
        "# Fungsi pengujian satu kalimat menggunakan model Random Forest\n",
        "def uji_input_rf():\n",
        "    # Ambil input teks dari pengguna\n",
        "    teks_input = input(\"Masukkan kalimat untuk diuji dengan Random Forest: \")\n",
        "\n",
        "    # Proses teks: bersihkan seperti data latih\n",
        "    teks_bersih = proses_teks(teks_input)\n",
        "\n",
        "    # Transformasi TF-IDF (pastikan tfidf sudah fit)\n",
        "    tfidf_input = tfidf.transform([teks_bersih])\n",
        "\n",
        "    # Prediksi dengan model Random Forest\n",
        "    prediksi = rf_model.predict(tfidf_input)[0]\n",
        "\n",
        "    # Konversi label ke nama\n",
        "    label_nama = {0: 'negatif', 1: 'netral', 2: 'positif'}.get(prediksi, \"tidak diketahui\")\n",
        "\n",
        "    # Tampilkan hasil\n",
        "    print(\"\\n=== Hasil Analisis Sentimen (Random Forest) ===\")\n",
        "    print(f\"Teks: {teks_input}\")\n",
        "    print(f\"Prediksi Sentimen: {label_nama} (Label: {prediksi})\")\n",
        "\n",
        "# Contoh pemanggilan fungsi\n",
        "uji_input_rf()\n"
      ],
      "metadata": {
        "colab": {
          "base_uri": "https://localhost:8080/"
        },
        "id": "LD2_JIWiX41r",
        "outputId": "516478b0-bf08-4b83-de72-0510d0683708"
      },
      "execution_count": null,
      "outputs": [
        {
          "output_type": "stream",
          "name": "stdout",
          "text": [
            "Masukkan kalimat untuk diuji dengan Random Forest: aplikasi jelek\n",
            "\n",
            "=== Hasil Analisis Sentimen (Random Forest) ===\n",
            "Teks: aplikasi jelek\n",
            "Prediksi Sentimen: negatif (Label: 0)\n"
          ]
        }
      ]
    },
    {
      "cell_type": "markdown",
      "metadata": {
        "id": "WMH3XWlu5OVZ"
      },
      "source": [
        "Perbandingan Performa Model"
      ]
    },
    {
      "cell_type": "code",
      "execution_count": null,
      "metadata": {
        "id": "fk0Yv6bZ5RDl",
        "colab": {
          "base_uri": "https://localhost:8080/",
          "height": 160
        },
        "outputId": "4d01b8b3-6769-4217-b8c3-2efd0ec461c6"
      },
      "outputs": [
        {
          "output_type": "stream",
          "name": "stdout",
          "text": [
            "Hasil Evaluasi Model\n"
          ]
        },
        {
          "output_type": "display_data",
          "data": {
            "text/plain": [
              "                            Model Akurasi Rasio Pembagian Data     Jenis Fitur\n",
              "0        LSTM + Embedding (80/20)  81.35%                80/20  Word Embedding\n",
              "1            SVM + TF-IDF (80/20)  77.33%                80/20          TF-IDF\n",
              "2  Random Forest + TF-IDF (70/30)  85.15%                70/30          TF-IDF"
            ],
            "text/html": [
              "\n",
              "  <div id=\"df-5a66c0f7-c79f-45f5-bc4d-d166c79e436e\" class=\"colab-df-container\">\n",
              "    <div>\n",
              "<style scoped>\n",
              "    .dataframe tbody tr th:only-of-type {\n",
              "        vertical-align: middle;\n",
              "    }\n",
              "\n",
              "    .dataframe tbody tr th {\n",
              "        vertical-align: top;\n",
              "    }\n",
              "\n",
              "    .dataframe thead th {\n",
              "        text-align: right;\n",
              "    }\n",
              "</style>\n",
              "<table border=\"1\" class=\"dataframe\">\n",
              "  <thead>\n",
              "    <tr style=\"text-align: right;\">\n",
              "      <th></th>\n",
              "      <th>Model</th>\n",
              "      <th>Akurasi</th>\n",
              "      <th>Rasio Pembagian Data</th>\n",
              "      <th>Jenis Fitur</th>\n",
              "    </tr>\n",
              "  </thead>\n",
              "  <tbody>\n",
              "    <tr>\n",
              "      <th>0</th>\n",
              "      <td>LSTM + Embedding (80/20)</td>\n",
              "      <td>81.35%</td>\n",
              "      <td>80/20</td>\n",
              "      <td>Word Embedding</td>\n",
              "    </tr>\n",
              "    <tr>\n",
              "      <th>1</th>\n",
              "      <td>SVM + TF-IDF (80/20)</td>\n",
              "      <td>77.33%</td>\n",
              "      <td>80/20</td>\n",
              "      <td>TF-IDF</td>\n",
              "    </tr>\n",
              "    <tr>\n",
              "      <th>2</th>\n",
              "      <td>Random Forest + TF-IDF (70/30)</td>\n",
              "      <td>85.15%</td>\n",
              "      <td>70/30</td>\n",
              "      <td>TF-IDF</td>\n",
              "    </tr>\n",
              "  </tbody>\n",
              "</table>\n",
              "</div>\n",
              "    <div class=\"colab-df-buttons\">\n",
              "\n",
              "  <div class=\"colab-df-container\">\n",
              "    <button class=\"colab-df-convert\" onclick=\"convertToInteractive('df-5a66c0f7-c79f-45f5-bc4d-d166c79e436e')\"\n",
              "            title=\"Convert this dataframe to an interactive table.\"\n",
              "            style=\"display:none;\">\n",
              "\n",
              "  <svg xmlns=\"http://www.w3.org/2000/svg\" height=\"24px\" viewBox=\"0 -960 960 960\">\n",
              "    <path d=\"M120-120v-720h720v720H120Zm60-500h600v-160H180v160Zm220 220h160v-160H400v160Zm0 220h160v-160H400v160ZM180-400h160v-160H180v160Zm440 0h160v-160H620v160ZM180-180h160v-160H180v160Zm440 0h160v-160H620v160Z\"/>\n",
              "  </svg>\n",
              "    </button>\n",
              "\n",
              "  <style>\n",
              "    .colab-df-container {\n",
              "      display:flex;\n",
              "      gap: 12px;\n",
              "    }\n",
              "\n",
              "    .colab-df-convert {\n",
              "      background-color: #E8F0FE;\n",
              "      border: none;\n",
              "      border-radius: 50%;\n",
              "      cursor: pointer;\n",
              "      display: none;\n",
              "      fill: #1967D2;\n",
              "      height: 32px;\n",
              "      padding: 0 0 0 0;\n",
              "      width: 32px;\n",
              "    }\n",
              "\n",
              "    .colab-df-convert:hover {\n",
              "      background-color: #E2EBFA;\n",
              "      box-shadow: 0px 1px 2px rgba(60, 64, 67, 0.3), 0px 1px 3px 1px rgba(60, 64, 67, 0.15);\n",
              "      fill: #174EA6;\n",
              "    }\n",
              "\n",
              "    .colab-df-buttons div {\n",
              "      margin-bottom: 4px;\n",
              "    }\n",
              "\n",
              "    [theme=dark] .colab-df-convert {\n",
              "      background-color: #3B4455;\n",
              "      fill: #D2E3FC;\n",
              "    }\n",
              "\n",
              "    [theme=dark] .colab-df-convert:hover {\n",
              "      background-color: #434B5C;\n",
              "      box-shadow: 0px 1px 3px 1px rgba(0, 0, 0, 0.15);\n",
              "      filter: drop-shadow(0px 1px 2px rgba(0, 0, 0, 0.3));\n",
              "      fill: #FFFFFF;\n",
              "    }\n",
              "  </style>\n",
              "\n",
              "    <script>\n",
              "      const buttonEl =\n",
              "        document.querySelector('#df-5a66c0f7-c79f-45f5-bc4d-d166c79e436e button.colab-df-convert');\n",
              "      buttonEl.style.display =\n",
              "        google.colab.kernel.accessAllowed ? 'block' : 'none';\n",
              "\n",
              "      async function convertToInteractive(key) {\n",
              "        const element = document.querySelector('#df-5a66c0f7-c79f-45f5-bc4d-d166c79e436e');\n",
              "        const dataTable =\n",
              "          await google.colab.kernel.invokeFunction('convertToInteractive',\n",
              "                                                    [key], {});\n",
              "        if (!dataTable) return;\n",
              "\n",
              "        const docLinkHtml = 'Like what you see? Visit the ' +\n",
              "          '<a target=\"_blank\" href=https://colab.research.google.com/notebooks/data_table.ipynb>data table notebook</a>'\n",
              "          + ' to learn more about interactive tables.';\n",
              "        element.innerHTML = '';\n",
              "        dataTable['output_type'] = 'display_data';\n",
              "        await google.colab.output.renderOutput(dataTable, element);\n",
              "        const docLink = document.createElement('div');\n",
              "        docLink.innerHTML = docLinkHtml;\n",
              "        element.appendChild(docLink);\n",
              "      }\n",
              "    </script>\n",
              "  </div>\n",
              "\n",
              "\n",
              "    <div id=\"df-b6491bc7-8911-4aed-a5f8-fdaf634a5f30\">\n",
              "      <button class=\"colab-df-quickchart\" onclick=\"quickchart('df-b6491bc7-8911-4aed-a5f8-fdaf634a5f30')\"\n",
              "                title=\"Suggest charts\"\n",
              "                style=\"display:none;\">\n",
              "\n",
              "<svg xmlns=\"http://www.w3.org/2000/svg\" height=\"24px\"viewBox=\"0 0 24 24\"\n",
              "     width=\"24px\">\n",
              "    <g>\n",
              "        <path d=\"M19 3H5c-1.1 0-2 .9-2 2v14c0 1.1.9 2 2 2h14c1.1 0 2-.9 2-2V5c0-1.1-.9-2-2-2zM9 17H7v-7h2v7zm4 0h-2V7h2v10zm4 0h-2v-4h2v4z\"/>\n",
              "    </g>\n",
              "</svg>\n",
              "      </button>\n",
              "\n",
              "<style>\n",
              "  .colab-df-quickchart {\n",
              "      --bg-color: #E8F0FE;\n",
              "      --fill-color: #1967D2;\n",
              "      --hover-bg-color: #E2EBFA;\n",
              "      --hover-fill-color: #174EA6;\n",
              "      --disabled-fill-color: #AAA;\n",
              "      --disabled-bg-color: #DDD;\n",
              "  }\n",
              "\n",
              "  [theme=dark] .colab-df-quickchart {\n",
              "      --bg-color: #3B4455;\n",
              "      --fill-color: #D2E3FC;\n",
              "      --hover-bg-color: #434B5C;\n",
              "      --hover-fill-color: #FFFFFF;\n",
              "      --disabled-bg-color: #3B4455;\n",
              "      --disabled-fill-color: #666;\n",
              "  }\n",
              "\n",
              "  .colab-df-quickchart {\n",
              "    background-color: var(--bg-color);\n",
              "    border: none;\n",
              "    border-radius: 50%;\n",
              "    cursor: pointer;\n",
              "    display: none;\n",
              "    fill: var(--fill-color);\n",
              "    height: 32px;\n",
              "    padding: 0;\n",
              "    width: 32px;\n",
              "  }\n",
              "\n",
              "  .colab-df-quickchart:hover {\n",
              "    background-color: var(--hover-bg-color);\n",
              "    box-shadow: 0 1px 2px rgba(60, 64, 67, 0.3), 0 1px 3px 1px rgba(60, 64, 67, 0.15);\n",
              "    fill: var(--button-hover-fill-color);\n",
              "  }\n",
              "\n",
              "  .colab-df-quickchart-complete:disabled,\n",
              "  .colab-df-quickchart-complete:disabled:hover {\n",
              "    background-color: var(--disabled-bg-color);\n",
              "    fill: var(--disabled-fill-color);\n",
              "    box-shadow: none;\n",
              "  }\n",
              "\n",
              "  .colab-df-spinner {\n",
              "    border: 2px solid var(--fill-color);\n",
              "    border-color: transparent;\n",
              "    border-bottom-color: var(--fill-color);\n",
              "    animation:\n",
              "      spin 1s steps(1) infinite;\n",
              "  }\n",
              "\n",
              "  @keyframes spin {\n",
              "    0% {\n",
              "      border-color: transparent;\n",
              "      border-bottom-color: var(--fill-color);\n",
              "      border-left-color: var(--fill-color);\n",
              "    }\n",
              "    20% {\n",
              "      border-color: transparent;\n",
              "      border-left-color: var(--fill-color);\n",
              "      border-top-color: var(--fill-color);\n",
              "    }\n",
              "    30% {\n",
              "      border-color: transparent;\n",
              "      border-left-color: var(--fill-color);\n",
              "      border-top-color: var(--fill-color);\n",
              "      border-right-color: var(--fill-color);\n",
              "    }\n",
              "    40% {\n",
              "      border-color: transparent;\n",
              "      border-right-color: var(--fill-color);\n",
              "      border-top-color: var(--fill-color);\n",
              "    }\n",
              "    60% {\n",
              "      border-color: transparent;\n",
              "      border-right-color: var(--fill-color);\n",
              "    }\n",
              "    80% {\n",
              "      border-color: transparent;\n",
              "      border-right-color: var(--fill-color);\n",
              "      border-bottom-color: var(--fill-color);\n",
              "    }\n",
              "    90% {\n",
              "      border-color: transparent;\n",
              "      border-bottom-color: var(--fill-color);\n",
              "    }\n",
              "  }\n",
              "</style>\n",
              "\n",
              "      <script>\n",
              "        async function quickchart(key) {\n",
              "          const quickchartButtonEl =\n",
              "            document.querySelector('#' + key + ' button');\n",
              "          quickchartButtonEl.disabled = true;  // To prevent multiple clicks.\n",
              "          quickchartButtonEl.classList.add('colab-df-spinner');\n",
              "          try {\n",
              "            const charts = await google.colab.kernel.invokeFunction(\n",
              "                'suggestCharts', [key], {});\n",
              "          } catch (error) {\n",
              "            console.error('Error during call to suggestCharts:', error);\n",
              "          }\n",
              "          quickchartButtonEl.classList.remove('colab-df-spinner');\n",
              "          quickchartButtonEl.classList.add('colab-df-quickchart-complete');\n",
              "        }\n",
              "        (() => {\n",
              "          let quickchartButtonEl =\n",
              "            document.querySelector('#df-b6491bc7-8911-4aed-a5f8-fdaf634a5f30 button');\n",
              "          quickchartButtonEl.style.display =\n",
              "            google.colab.kernel.accessAllowed ? 'block' : 'none';\n",
              "        })();\n",
              "      </script>\n",
              "    </div>\n",
              "\n",
              "  <div id=\"id_03c7c26a-9f6c-4b59-b329-4979477bda7b\">\n",
              "    <style>\n",
              "      .colab-df-generate {\n",
              "        background-color: #E8F0FE;\n",
              "        border: none;\n",
              "        border-radius: 50%;\n",
              "        cursor: pointer;\n",
              "        display: none;\n",
              "        fill: #1967D2;\n",
              "        height: 32px;\n",
              "        padding: 0 0 0 0;\n",
              "        width: 32px;\n",
              "      }\n",
              "\n",
              "      .colab-df-generate:hover {\n",
              "        background-color: #E2EBFA;\n",
              "        box-shadow: 0px 1px 2px rgba(60, 64, 67, 0.3), 0px 1px 3px 1px rgba(60, 64, 67, 0.15);\n",
              "        fill: #174EA6;\n",
              "      }\n",
              "\n",
              "      [theme=dark] .colab-df-generate {\n",
              "        background-color: #3B4455;\n",
              "        fill: #D2E3FC;\n",
              "      }\n",
              "\n",
              "      [theme=dark] .colab-df-generate:hover {\n",
              "        background-color: #434B5C;\n",
              "        box-shadow: 0px 1px 3px 1px rgba(0, 0, 0, 0.15);\n",
              "        filter: drop-shadow(0px 1px 2px rgba(0, 0, 0, 0.3));\n",
              "        fill: #FFFFFF;\n",
              "      }\n",
              "    </style>\n",
              "    <button class=\"colab-df-generate\" onclick=\"generateWithVariable('df_ringkasan')\"\n",
              "            title=\"Generate code using this dataframe.\"\n",
              "            style=\"display:none;\">\n",
              "\n",
              "  <svg xmlns=\"http://www.w3.org/2000/svg\" height=\"24px\"viewBox=\"0 0 24 24\"\n",
              "       width=\"24px\">\n",
              "    <path d=\"M7,19H8.4L18.45,9,17,7.55,7,17.6ZM5,21V16.75L18.45,3.32a2,2,0,0,1,2.83,0l1.4,1.43a1.91,1.91,0,0,1,.58,1.4,1.91,1.91,0,0,1-.58,1.4L9.25,21ZM18.45,9,17,7.55Zm-12,3A5.31,5.31,0,0,0,4.9,8.1,5.31,5.31,0,0,0,1,6.5,5.31,5.31,0,0,0,4.9,4.9,5.31,5.31,0,0,0,6.5,1,5.31,5.31,0,0,0,8.1,4.9,5.31,5.31,0,0,0,12,6.5,5.46,5.46,0,0,0,6.5,12Z\"/>\n",
              "  </svg>\n",
              "    </button>\n",
              "    <script>\n",
              "      (() => {\n",
              "      const buttonEl =\n",
              "        document.querySelector('#id_03c7c26a-9f6c-4b59-b329-4979477bda7b button.colab-df-generate');\n",
              "      buttonEl.style.display =\n",
              "        google.colab.kernel.accessAllowed ? 'block' : 'none';\n",
              "\n",
              "      buttonEl.onclick = () => {\n",
              "        google.colab.notebook.generateWithVariable('df_ringkasan');\n",
              "      }\n",
              "      })();\n",
              "    </script>\n",
              "  </div>\n",
              "\n",
              "    </div>\n",
              "  </div>\n"
            ],
            "application/vnd.google.colaboratory.intrinsic+json": {
              "type": "dataframe",
              "variable_name": "df_ringkasan",
              "summary": "{\n  \"name\": \"df_ringkasan\",\n  \"rows\": 3,\n  \"fields\": [\n    {\n      \"column\": \"Model\",\n      \"properties\": {\n        \"dtype\": \"string\",\n        \"num_unique_values\": 3,\n        \"samples\": [\n          \"LSTM + Embedding (80/20)\",\n          \"SVM + TF-IDF (80/20)\",\n          \"Random Forest + TF-IDF (70/30)\"\n        ],\n        \"semantic_type\": \"\",\n        \"description\": \"\"\n      }\n    },\n    {\n      \"column\": \"Akurasi\",\n      \"properties\": {\n        \"dtype\": \"string\",\n        \"num_unique_values\": 3,\n        \"samples\": [\n          \"81.35%\",\n          \"77.33%\",\n          \"85.15%\"\n        ],\n        \"semantic_type\": \"\",\n        \"description\": \"\"\n      }\n    },\n    {\n      \"column\": \"Rasio Pembagian Data\",\n      \"properties\": {\n        \"dtype\": \"string\",\n        \"num_unique_values\": 2,\n        \"samples\": [\n          \"70/30\",\n          \"80/20\"\n        ],\n        \"semantic_type\": \"\",\n        \"description\": \"\"\n      }\n    },\n    {\n      \"column\": \"Jenis Fitur\",\n      \"properties\": {\n        \"dtype\": \"string\",\n        \"num_unique_values\": 2,\n        \"samples\": [\n          \"TF-IDF\",\n          \"Word Embedding\"\n        ],\n        \"semantic_type\": \"\",\n        \"description\": \"\"\n      }\n    }\n  ]\n}"
            }
          },
          "metadata": {}
        }
      ],
      "source": [
        "# Membuat tabel ringkasan performa model\n",
        "ringkasan = {\n",
        "    'Model': ['LSTM + Embedding (80/20)', 'SVM + TF-IDF (80/20)', 'Random Forest + TF-IDF (70/30)'],\n",
        "    'Akurasi': [akurasi_lstm, akurasi_svm, akurat_uji_rf],  # gunakan nama variabel yang benar\n",
        "    'Rasio Pembagian Data': ['80/20', '80/20', '70/30'],\n",
        "    'Jenis Fitur': ['Word Embedding', 'TF-IDF', 'TF-IDF']\n",
        "}\n",
        "\n",
        "# Mengonversi ke DataFrame\n",
        "df_ringkasan = pd.DataFrame(ringkasan)\n",
        "\n",
        "# Format akurasi menjadi persen\n",
        "df_ringkasan['Akurasi'] = df_ringkasan['Akurasi'].apply(lambda x: f\"{x:.2%}\")\n",
        "\n",
        "# Menampilkan ringkasan\n",
        "print(\"Hasil Evaluasi Model\")\n",
        "display(df_ringkasan)\n"
      ]
    }
  ],
  "metadata": {
    "colab": {
      "provenance": [],
      "authorship_tag": "ABX9TyOXtbyCLXur8+6Wr+7owoRP",
      "include_colab_link": true
    },
    "kernelspec": {
      "display_name": "Python 3",
      "name": "python3"
    },
    "language_info": {
      "name": "python"
    }
  },
  "nbformat": 4,
  "nbformat_minor": 0
}